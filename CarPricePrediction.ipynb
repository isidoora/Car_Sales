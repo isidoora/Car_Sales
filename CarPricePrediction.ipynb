{
 "cells": [
  {
   "cell_type": "markdown",
   "id": "2f03c5b9-f2e6-47e7-8784-131cab2eb6d6",
   "metadata": {
    "jp-MarkdownHeadingCollapsed": true,
    "tags": []
   },
   "source": [
    "## Problem Statement\n",
    "A Chinese automobile company Geely Auto aspires to enter the US market by setting up their manufacturing unit there and producing cars locally to give competition to their US and European counterparts.\n",
    "\n",
    "They have contracted an automobile consulting company to understand the factors on which the pricing of cars depends. Specifically, they want to understand the factors affecting the pricing of cars in the American market, since those may be very different from the Chinese market.<br>The company wants to know:\n",
    "\n",
    "* Which variables are significant in predicting the price of a car?\n",
    "* How well those variables describe the price of a car?\n",
    "\n",
    "Based on various market surveys, the consulting firm has gathered a large data set of different types of cars across the America market.\n",
    "\n",
    "## Business Goal\n",
    "> We are required to model the price of cars with the available independent variables. It will be used by the management to understand how exactly the prices vary with the independent variables. They can accordingly manipulate the design of the cars, the business strategy etc. to meet certain price levels. Further, the model will be a good way for management to understand the pricing dynamics of a new market.\n",
    "\n",
    "__[Data Source](https://www.kaggle.com/datasets/hellbuoy/car-price-prediction?resource=download)__ <br>\n",
    "Please Note : The dataset provided is for learning purpose. Please don’t draw any inference with real world scenario. "
   ]
  },
  {
   "cell_type": "markdown",
   "id": "6016f94f-c2e3-4e74-b71e-34dd33aec98e",
   "metadata": {
    "tags": []
   },
   "source": [
    "## Table of Contents\n",
    "\n",
    "1. [Data Cleaning](#Data-Cleaning)\n",
    "\n",
    "2. [Exploratory Data Analysis](#Exploratory-Data-Analysis-(EDA))\n",
    "\n",
    "3. [Data Preparation](#Data-Preparation)\n",
    "\n",
    "4. [Scaling Data](#Scaling-Data)\n",
    "\n",
    "5. [Model Construction & Prediction](#Model-Construction-&-Prediction)\n",
    "\n",
    "6. [Model Evaluation](#Model-Evaluation)\n",
    "\n",
    "7. [Next Steps](#Next-Steps)"
   ]
  },
  {
   "cell_type": "markdown",
   "id": "27c6652d-7b05-4a65-a536-4d59a71c4ec2",
   "metadata": {
    "tags": []
   },
   "source": [
    "## Data Cleaning"
   ]
  },
  {
   "cell_type": "code",
   "execution_count": 1,
   "id": "2e7ed458-d1ae-46e0-ad90-d88a06a7d8ca",
   "metadata": {},
   "outputs": [],
   "source": [
    "# import libraries for handling dataframe\n",
    "import pandas as pd\n",
    "import numpy as np\n",
    "import matplotlib.pyplot as plt\n",
    "import seaborn as sns"
   ]
  },
  {
   "cell_type": "code",
   "execution_count": 2,
   "id": "4f543185-461e-4e70-8890-0d2c70a088c8",
   "metadata": {},
   "outputs": [
    {
     "data": {
      "text/html": [
       "<div>\n",
       "<style scoped>\n",
       "    .dataframe tbody tr th:only-of-type {\n",
       "        vertical-align: middle;\n",
       "    }\n",
       "\n",
       "    .dataframe tbody tr th {\n",
       "        vertical-align: top;\n",
       "    }\n",
       "\n",
       "    .dataframe thead th {\n",
       "        text-align: right;\n",
       "    }\n",
       "</style>\n",
       "<table border=\"1\" class=\"dataframe\">\n",
       "  <thead>\n",
       "    <tr style=\"text-align: right;\">\n",
       "      <th></th>\n",
       "      <th>car_ID</th>\n",
       "      <th>symboling</th>\n",
       "      <th>CarName</th>\n",
       "      <th>fueltype</th>\n",
       "      <th>aspiration</th>\n",
       "      <th>doornumber</th>\n",
       "      <th>carbody</th>\n",
       "      <th>drivewheel</th>\n",
       "      <th>enginelocation</th>\n",
       "      <th>wheelbase</th>\n",
       "      <th>...</th>\n",
       "      <th>enginesize</th>\n",
       "      <th>fuelsystem</th>\n",
       "      <th>boreratio</th>\n",
       "      <th>stroke</th>\n",
       "      <th>compressionratio</th>\n",
       "      <th>horsepower</th>\n",
       "      <th>peakrpm</th>\n",
       "      <th>citympg</th>\n",
       "      <th>highwaympg</th>\n",
       "      <th>price</th>\n",
       "    </tr>\n",
       "  </thead>\n",
       "  <tbody>\n",
       "    <tr>\n",
       "      <th>0</th>\n",
       "      <td>1</td>\n",
       "      <td>3</td>\n",
       "      <td>alfa-romero giulia</td>\n",
       "      <td>gas</td>\n",
       "      <td>std</td>\n",
       "      <td>two</td>\n",
       "      <td>convertible</td>\n",
       "      <td>rwd</td>\n",
       "      <td>front</td>\n",
       "      <td>88.6</td>\n",
       "      <td>...</td>\n",
       "      <td>130</td>\n",
       "      <td>mpfi</td>\n",
       "      <td>3.47</td>\n",
       "      <td>2.68</td>\n",
       "      <td>9.0</td>\n",
       "      <td>111</td>\n",
       "      <td>5000</td>\n",
       "      <td>21</td>\n",
       "      <td>27</td>\n",
       "      <td>13495.0</td>\n",
       "    </tr>\n",
       "    <tr>\n",
       "      <th>1</th>\n",
       "      <td>2</td>\n",
       "      <td>3</td>\n",
       "      <td>alfa-romero stelvio</td>\n",
       "      <td>gas</td>\n",
       "      <td>std</td>\n",
       "      <td>two</td>\n",
       "      <td>convertible</td>\n",
       "      <td>rwd</td>\n",
       "      <td>front</td>\n",
       "      <td>88.6</td>\n",
       "      <td>...</td>\n",
       "      <td>130</td>\n",
       "      <td>mpfi</td>\n",
       "      <td>3.47</td>\n",
       "      <td>2.68</td>\n",
       "      <td>9.0</td>\n",
       "      <td>111</td>\n",
       "      <td>5000</td>\n",
       "      <td>21</td>\n",
       "      <td>27</td>\n",
       "      <td>16500.0</td>\n",
       "    </tr>\n",
       "    <tr>\n",
       "      <th>2</th>\n",
       "      <td>3</td>\n",
       "      <td>1</td>\n",
       "      <td>alfa-romero Quadrifoglio</td>\n",
       "      <td>gas</td>\n",
       "      <td>std</td>\n",
       "      <td>two</td>\n",
       "      <td>hatchback</td>\n",
       "      <td>rwd</td>\n",
       "      <td>front</td>\n",
       "      <td>94.5</td>\n",
       "      <td>...</td>\n",
       "      <td>152</td>\n",
       "      <td>mpfi</td>\n",
       "      <td>2.68</td>\n",
       "      <td>3.47</td>\n",
       "      <td>9.0</td>\n",
       "      <td>154</td>\n",
       "      <td>5000</td>\n",
       "      <td>19</td>\n",
       "      <td>26</td>\n",
       "      <td>16500.0</td>\n",
       "    </tr>\n",
       "    <tr>\n",
       "      <th>3</th>\n",
       "      <td>4</td>\n",
       "      <td>2</td>\n",
       "      <td>audi 100 ls</td>\n",
       "      <td>gas</td>\n",
       "      <td>std</td>\n",
       "      <td>four</td>\n",
       "      <td>sedan</td>\n",
       "      <td>fwd</td>\n",
       "      <td>front</td>\n",
       "      <td>99.8</td>\n",
       "      <td>...</td>\n",
       "      <td>109</td>\n",
       "      <td>mpfi</td>\n",
       "      <td>3.19</td>\n",
       "      <td>3.40</td>\n",
       "      <td>10.0</td>\n",
       "      <td>102</td>\n",
       "      <td>5500</td>\n",
       "      <td>24</td>\n",
       "      <td>30</td>\n",
       "      <td>13950.0</td>\n",
       "    </tr>\n",
       "    <tr>\n",
       "      <th>4</th>\n",
       "      <td>5</td>\n",
       "      <td>2</td>\n",
       "      <td>audi 100ls</td>\n",
       "      <td>gas</td>\n",
       "      <td>std</td>\n",
       "      <td>four</td>\n",
       "      <td>sedan</td>\n",
       "      <td>4wd</td>\n",
       "      <td>front</td>\n",
       "      <td>99.4</td>\n",
       "      <td>...</td>\n",
       "      <td>136</td>\n",
       "      <td>mpfi</td>\n",
       "      <td>3.19</td>\n",
       "      <td>3.40</td>\n",
       "      <td>8.0</td>\n",
       "      <td>115</td>\n",
       "      <td>5500</td>\n",
       "      <td>18</td>\n",
       "      <td>22</td>\n",
       "      <td>17450.0</td>\n",
       "    </tr>\n",
       "  </tbody>\n",
       "</table>\n",
       "<p>5 rows × 26 columns</p>\n",
       "</div>"
      ],
      "text/plain": [
       "   car_ID  symboling                   CarName fueltype aspiration doornumber  \\\n",
       "0       1          3        alfa-romero giulia      gas        std        two   \n",
       "1       2          3       alfa-romero stelvio      gas        std        two   \n",
       "2       3          1  alfa-romero Quadrifoglio      gas        std        two   \n",
       "3       4          2               audi 100 ls      gas        std       four   \n",
       "4       5          2                audi 100ls      gas        std       four   \n",
       "\n",
       "       carbody drivewheel enginelocation  wheelbase  ...  enginesize  \\\n",
       "0  convertible        rwd          front       88.6  ...         130   \n",
       "1  convertible        rwd          front       88.6  ...         130   \n",
       "2    hatchback        rwd          front       94.5  ...         152   \n",
       "3        sedan        fwd          front       99.8  ...         109   \n",
       "4        sedan        4wd          front       99.4  ...         136   \n",
       "\n",
       "   fuelsystem  boreratio  stroke compressionratio horsepower  peakrpm citympg  \\\n",
       "0        mpfi       3.47    2.68              9.0        111     5000      21   \n",
       "1        mpfi       3.47    2.68              9.0        111     5000      21   \n",
       "2        mpfi       2.68    3.47              9.0        154     5000      19   \n",
       "3        mpfi       3.19    3.40             10.0        102     5500      24   \n",
       "4        mpfi       3.19    3.40              8.0        115     5500      18   \n",
       "\n",
       "   highwaympg    price  \n",
       "0          27  13495.0  \n",
       "1          27  16500.0  \n",
       "2          26  16500.0  \n",
       "3          30  13950.0  \n",
       "4          22  17450.0  \n",
       "\n",
       "[5 rows x 26 columns]"
      ]
     },
     "execution_count": 2,
     "metadata": {},
     "output_type": "execute_result"
    }
   ],
   "source": [
    "# Import dataset\n",
    "cars = pd.read_csv('CarPrice_Assignment.csv')\n",
    "df = pd.DataFrame(cars)\n",
    "df.head()"
   ]
  },
  {
   "cell_type": "code",
   "execution_count": 3,
   "id": "7aceb0ac-1e9b-441d-953a-f9f94481b9ff",
   "metadata": {},
   "outputs": [
    {
     "name": "stdout",
     "output_type": "stream",
     "text": [
      "Dataset dimensions: (205, 26)\n"
     ]
    }
   ],
   "source": [
    "print(\"Dataset dimensions:\", df.shape)"
   ]
  },
  {
   "cell_type": "code",
   "execution_count": 4,
   "id": "ef1e3357-4689-4b62-8241-0d4aa0b5e853",
   "metadata": {},
   "outputs": [
    {
     "data": {
      "text/plain": [
       "Index(['car_ID', 'symboling', 'CarName', 'fueltype', 'aspiration',\n",
       "       'doornumber', 'carbody', 'drivewheel', 'enginelocation', 'wheelbase',\n",
       "       'carlength', 'carwidth', 'carheight', 'curbweight', 'enginetype',\n",
       "       'cylindernumber', 'enginesize', 'fuelsystem', 'boreratio', 'stroke',\n",
       "       'compressionratio', 'horsepower', 'peakrpm', 'citympg', 'highwaympg',\n",
       "       'price'],\n",
       "      dtype='object')"
      ]
     },
     "execution_count": 4,
     "metadata": {},
     "output_type": "execute_result"
    }
   ],
   "source": [
    "df.columns"
   ]
  },
  {
   "cell_type": "code",
   "execution_count": 5,
   "id": "aba64a37-9aba-400d-b3ea-3c76bf61b7da",
   "metadata": {},
   "outputs": [],
   "source": [
    "# Rename columns\n",
    "col_names = {'car_ID': 'CarId', 'symboling': 'Symboling', 'CarName': 'CarName', 'fueltype': 'FuelType', 'aspiration': 'Aspiration',\n",
    "             'doornumber': 'DoorNumber', 'carbody': 'CarBody', 'drivewheel': 'DriveWheel', 'enginelocation': 'EngineLocation',\n",
    "             'wheelbase': 'WheelBase', 'carlength': 'CarLength', 'carwidth': 'CarWidth', 'carheight': 'CarHeight',\n",
    "             'curbweight': 'CurbWeight', 'enginetype': 'EngineType', 'cylindernumber': 'CylinderNumber', 'enginesize': 'EngineSize',\n",
    "             'fuelsystem': 'FuelSystem', 'boreratio': 'BoreRatio', 'stroke': 'Stroke', 'compressionratio': 'CompressionRatio',\n",
    "             'horsepower': 'HorsePower', 'peakrpm': 'PeakRPM', 'citympg': 'CityMPG', 'highwaympg': 'HighwayMPG', 'price': 'Price'}\n",
    "\n",
    "df = df.rename(columns = col_names)"
   ]
  },
  {
   "cell_type": "code",
   "execution_count": 6,
   "id": "82c78f86-5db1-4a28-a45b-8789ee6f6108",
   "metadata": {
    "tags": []
   },
   "outputs": [
    {
     "data": {
      "text/plain": [
       "array(['alfa-romero giulia', 'alfa-romero stelvio',\n",
       "       'alfa-romero Quadrifoglio', 'audi 100 ls', 'audi 100ls',\n",
       "       'audi fox', 'audi 5000', 'audi 4000', 'audi 5000s (diesel)',\n",
       "       'bmw 320i', 'bmw x1', 'bmw x3', 'bmw z4', 'bmw x4', 'bmw x5',\n",
       "       'chevrolet impala', 'chevrolet monte carlo', 'chevrolet vega 2300',\n",
       "       'dodge rampage', 'dodge challenger se', 'dodge d200',\n",
       "       'dodge monaco (sw)', 'dodge colt hardtop', 'dodge colt (sw)',\n",
       "       'dodge coronet custom', 'dodge dart custom',\n",
       "       'dodge coronet custom (sw)', 'honda civic', 'honda civic cvcc',\n",
       "       'honda accord cvcc', 'honda accord lx', 'honda civic 1500 gl',\n",
       "       'honda accord', 'honda civic 1300', 'honda prelude',\n",
       "       'honda civic (auto)', 'isuzu MU-X', 'isuzu D-Max ',\n",
       "       'isuzu D-Max V-Cross', 'jaguar xj', 'jaguar xf', 'jaguar xk',\n",
       "       'maxda rx3', 'maxda glc deluxe', 'mazda rx2 coupe', 'mazda rx-4',\n",
       "       'mazda glc deluxe', 'mazda 626', 'mazda glc', 'mazda rx-7 gs',\n",
       "       'mazda glc 4', 'mazda glc custom l', 'mazda glc custom',\n",
       "       'buick electra 225 custom', 'buick century luxus (sw)',\n",
       "       'buick century', 'buick skyhawk', 'buick opel isuzu deluxe',\n",
       "       'buick skylark', 'buick century special',\n",
       "       'buick regal sport coupe (turbo)', 'mercury cougar',\n",
       "       'mitsubishi mirage', 'mitsubishi lancer', 'mitsubishi outlander',\n",
       "       'mitsubishi g4', 'mitsubishi mirage g4', 'mitsubishi montero',\n",
       "       'mitsubishi pajero', 'Nissan versa', 'nissan gt-r', 'nissan rogue',\n",
       "       'nissan latio', 'nissan titan', 'nissan leaf', 'nissan juke',\n",
       "       'nissan note', 'nissan clipper', 'nissan nv200', 'nissan dayz',\n",
       "       'nissan fuga', 'nissan otti', 'nissan teana', 'nissan kicks',\n",
       "       'peugeot 504', 'peugeot 304', 'peugeot 504 (sw)', 'peugeot 604sl',\n",
       "       'peugeot 505s turbo diesel', 'plymouth fury iii',\n",
       "       'plymouth cricket', 'plymouth satellite custom (sw)',\n",
       "       'plymouth fury gran sedan', 'plymouth valiant', 'plymouth duster',\n",
       "       'porsche macan', 'porcshce panamera', 'porsche cayenne',\n",
       "       'porsche boxter', 'renault 12tl', 'renault 5 gtl', 'saab 99e',\n",
       "       'saab 99le', 'saab 99gle', 'subaru', 'subaru dl', 'subaru brz',\n",
       "       'subaru baja', 'subaru r1', 'subaru r2', 'subaru trezia',\n",
       "       'subaru tribeca', 'toyota corona mark ii', 'toyota corona',\n",
       "       'toyota corolla 1200', 'toyota corona hardtop',\n",
       "       'toyota corolla 1600 (sw)', 'toyota carina', 'toyota mark ii',\n",
       "       'toyota corolla', 'toyota corolla liftback',\n",
       "       'toyota celica gt liftback', 'toyota corolla tercel',\n",
       "       'toyota corona liftback', 'toyota starlet', 'toyota tercel',\n",
       "       'toyota cressida', 'toyota celica gt', 'toyouta tercel',\n",
       "       'vokswagen rabbit', 'volkswagen 1131 deluxe sedan',\n",
       "       'volkswagen model 111', 'volkswagen type 3', 'volkswagen 411 (sw)',\n",
       "       'volkswagen super beetle', 'volkswagen dasher', 'vw dasher',\n",
       "       'vw rabbit', 'volkswagen rabbit', 'volkswagen rabbit custom',\n",
       "       'volvo 145e (sw)', 'volvo 144ea', 'volvo 244dl', 'volvo 245',\n",
       "       'volvo 264gl', 'volvo diesel', 'volvo 246'], dtype=object)"
      ]
     },
     "execution_count": 6,
     "metadata": {},
     "output_type": "execute_result"
    }
   ],
   "source": [
    "# CarName column consist information about Company and Model of the car\n",
    "df.CarName.unique()"
   ]
  },
  {
   "cell_type": "code",
   "execution_count": 7,
   "id": "39ba82dd-1f63-4284-b638-b67783650074",
   "metadata": {},
   "outputs": [
    {
     "data": {
      "text/html": [
       "<div>\n",
       "<style scoped>\n",
       "    .dataframe tbody tr th:only-of-type {\n",
       "        vertical-align: middle;\n",
       "    }\n",
       "\n",
       "    .dataframe tbody tr th {\n",
       "        vertical-align: top;\n",
       "    }\n",
       "\n",
       "    .dataframe thead th {\n",
       "        text-align: right;\n",
       "    }\n",
       "</style>\n",
       "<table border=\"1\" class=\"dataframe\">\n",
       "  <thead>\n",
       "    <tr style=\"text-align: right;\">\n",
       "      <th></th>\n",
       "      <th>Symboling</th>\n",
       "      <th>Company</th>\n",
       "      <th>FuelType</th>\n",
       "      <th>Aspiration</th>\n",
       "      <th>DoorNumber</th>\n",
       "      <th>CarBody</th>\n",
       "      <th>DriveWheel</th>\n",
       "      <th>EngineLocation</th>\n",
       "      <th>WheelBase</th>\n",
       "      <th>CarLength</th>\n",
       "      <th>...</th>\n",
       "      <th>EngineSize</th>\n",
       "      <th>FuelSystem</th>\n",
       "      <th>BoreRatio</th>\n",
       "      <th>Stroke</th>\n",
       "      <th>CompressionRatio</th>\n",
       "      <th>HorsePower</th>\n",
       "      <th>PeakRPM</th>\n",
       "      <th>CityMPG</th>\n",
       "      <th>HighwayMPG</th>\n",
       "      <th>Price</th>\n",
       "    </tr>\n",
       "  </thead>\n",
       "  <tbody>\n",
       "    <tr>\n",
       "      <th>0</th>\n",
       "      <td>3</td>\n",
       "      <td>alfa-romero</td>\n",
       "      <td>gas</td>\n",
       "      <td>std</td>\n",
       "      <td>two</td>\n",
       "      <td>convertible</td>\n",
       "      <td>rwd</td>\n",
       "      <td>front</td>\n",
       "      <td>88.6</td>\n",
       "      <td>168.8</td>\n",
       "      <td>...</td>\n",
       "      <td>130</td>\n",
       "      <td>mpfi</td>\n",
       "      <td>3.47</td>\n",
       "      <td>2.68</td>\n",
       "      <td>9.0</td>\n",
       "      <td>111</td>\n",
       "      <td>5000</td>\n",
       "      <td>21</td>\n",
       "      <td>27</td>\n",
       "      <td>13495.0</td>\n",
       "    </tr>\n",
       "    <tr>\n",
       "      <th>1</th>\n",
       "      <td>3</td>\n",
       "      <td>alfa-romero</td>\n",
       "      <td>gas</td>\n",
       "      <td>std</td>\n",
       "      <td>two</td>\n",
       "      <td>convertible</td>\n",
       "      <td>rwd</td>\n",
       "      <td>front</td>\n",
       "      <td>88.6</td>\n",
       "      <td>168.8</td>\n",
       "      <td>...</td>\n",
       "      <td>130</td>\n",
       "      <td>mpfi</td>\n",
       "      <td>3.47</td>\n",
       "      <td>2.68</td>\n",
       "      <td>9.0</td>\n",
       "      <td>111</td>\n",
       "      <td>5000</td>\n",
       "      <td>21</td>\n",
       "      <td>27</td>\n",
       "      <td>16500.0</td>\n",
       "    </tr>\n",
       "    <tr>\n",
       "      <th>2</th>\n",
       "      <td>1</td>\n",
       "      <td>alfa-romero</td>\n",
       "      <td>gas</td>\n",
       "      <td>std</td>\n",
       "      <td>two</td>\n",
       "      <td>hatchback</td>\n",
       "      <td>rwd</td>\n",
       "      <td>front</td>\n",
       "      <td>94.5</td>\n",
       "      <td>171.2</td>\n",
       "      <td>...</td>\n",
       "      <td>152</td>\n",
       "      <td>mpfi</td>\n",
       "      <td>2.68</td>\n",
       "      <td>3.47</td>\n",
       "      <td>9.0</td>\n",
       "      <td>154</td>\n",
       "      <td>5000</td>\n",
       "      <td>19</td>\n",
       "      <td>26</td>\n",
       "      <td>16500.0</td>\n",
       "    </tr>\n",
       "    <tr>\n",
       "      <th>3</th>\n",
       "      <td>2</td>\n",
       "      <td>audi</td>\n",
       "      <td>gas</td>\n",
       "      <td>std</td>\n",
       "      <td>four</td>\n",
       "      <td>sedan</td>\n",
       "      <td>fwd</td>\n",
       "      <td>front</td>\n",
       "      <td>99.8</td>\n",
       "      <td>176.6</td>\n",
       "      <td>...</td>\n",
       "      <td>109</td>\n",
       "      <td>mpfi</td>\n",
       "      <td>3.19</td>\n",
       "      <td>3.40</td>\n",
       "      <td>10.0</td>\n",
       "      <td>102</td>\n",
       "      <td>5500</td>\n",
       "      <td>24</td>\n",
       "      <td>30</td>\n",
       "      <td>13950.0</td>\n",
       "    </tr>\n",
       "    <tr>\n",
       "      <th>4</th>\n",
       "      <td>2</td>\n",
       "      <td>audi</td>\n",
       "      <td>gas</td>\n",
       "      <td>std</td>\n",
       "      <td>four</td>\n",
       "      <td>sedan</td>\n",
       "      <td>4wd</td>\n",
       "      <td>front</td>\n",
       "      <td>99.4</td>\n",
       "      <td>176.6</td>\n",
       "      <td>...</td>\n",
       "      <td>136</td>\n",
       "      <td>mpfi</td>\n",
       "      <td>3.19</td>\n",
       "      <td>3.40</td>\n",
       "      <td>8.0</td>\n",
       "      <td>115</td>\n",
       "      <td>5500</td>\n",
       "      <td>18</td>\n",
       "      <td>22</td>\n",
       "      <td>17450.0</td>\n",
       "    </tr>\n",
       "  </tbody>\n",
       "</table>\n",
       "<p>5 rows × 25 columns</p>\n",
       "</div>"
      ],
      "text/plain": [
       "   Symboling      Company FuelType Aspiration DoorNumber      CarBody  \\\n",
       "0          3  alfa-romero      gas        std        two  convertible   \n",
       "1          3  alfa-romero      gas        std        two  convertible   \n",
       "2          1  alfa-romero      gas        std        two    hatchback   \n",
       "3          2         audi      gas        std       four        sedan   \n",
       "4          2         audi      gas        std       four        sedan   \n",
       "\n",
       "  DriveWheel EngineLocation  WheelBase  CarLength  ...  EngineSize  \\\n",
       "0        rwd          front       88.6      168.8  ...         130   \n",
       "1        rwd          front       88.6      168.8  ...         130   \n",
       "2        rwd          front       94.5      171.2  ...         152   \n",
       "3        fwd          front       99.8      176.6  ...         109   \n",
       "4        4wd          front       99.4      176.6  ...         136   \n",
       "\n",
       "   FuelSystem  BoreRatio Stroke CompressionRatio  HorsePower PeakRPM  CityMPG  \\\n",
       "0        mpfi       3.47   2.68              9.0         111    5000       21   \n",
       "1        mpfi       3.47   2.68              9.0         111    5000       21   \n",
       "2        mpfi       2.68   3.47              9.0         154    5000       19   \n",
       "3        mpfi       3.19   3.40             10.0         102    5500       24   \n",
       "4        mpfi       3.19   3.40              8.0         115    5500       18   \n",
       "\n",
       "   HighwayMPG    Price  \n",
       "0          27  13495.0  \n",
       "1          27  16500.0  \n",
       "2          26  16500.0  \n",
       "3          30  13950.0  \n",
       "4          22  17450.0  \n",
       "\n",
       "[5 rows x 25 columns]"
      ]
     },
     "execution_count": 7,
     "metadata": {},
     "output_type": "execute_result"
    }
   ],
   "source": [
    "# Make copy of a dataframe to asure the original data remain unchanged \n",
    "data = df.copy()\n",
    "\n",
    "# Split CarName column into two separete columns: Company and Model\n",
    "# data[['Company', 'Model']] = data['CarName'].apply(lambda x: pd.Series(str(x).split(' ', 1)))\n",
    "\n",
    "# Choosed to keep only Company for further analysis\n",
    "data['Company'] = data['CarName'].str.split().str[0]\n",
    "\n",
    "# Insert those columns in the CarName position\n",
    "data.insert(2, 'Company', data.pop('Company'))\n",
    "# data.insert(3, 'Model', data.pop('Model'))\n",
    "\n",
    "# Delete redundant columns \n",
    "data.drop(['CarName'], axis=1, inplace=True)\n",
    "data.drop(['CarId'], axis=1, inplace=True)\n",
    "\n",
    "#Check new dataframe\n",
    "data.head()"
   ]
  },
  {
   "cell_type": "code",
   "execution_count": 8,
   "id": "3fb7b17c-115c-479d-b76f-616dae1e62a3",
   "metadata": {},
   "outputs": [
    {
     "name": "stdout",
     "output_type": "stream",
     "text": [
      "<class 'pandas.core.frame.DataFrame'>\n",
      "RangeIndex: 205 entries, 0 to 204\n",
      "Data columns (total 26 columns):\n",
      " #   Column            Non-Null Count  Dtype  \n",
      "---  ------            --------------  -----  \n",
      " 0   CarId             205 non-null    int64  \n",
      " 1   Symboling         205 non-null    int64  \n",
      " 2   CarName           205 non-null    object \n",
      " 3   FuelType          205 non-null    object \n",
      " 4   Aspiration        205 non-null    object \n",
      " 5   DoorNumber        205 non-null    object \n",
      " 6   CarBody           205 non-null    object \n",
      " 7   DriveWheel        205 non-null    object \n",
      " 8   EngineLocation    205 non-null    object \n",
      " 9   WheelBase         205 non-null    float64\n",
      " 10  CarLength         205 non-null    float64\n",
      " 11  CarWidth          205 non-null    float64\n",
      " 12  CarHeight         205 non-null    float64\n",
      " 13  CurbWeight        205 non-null    int64  \n",
      " 14  EngineType        205 non-null    object \n",
      " 15  CylinderNumber    205 non-null    object \n",
      " 16  EngineSize        205 non-null    int64  \n",
      " 17  FuelSystem        205 non-null    object \n",
      " 18  BoreRatio         205 non-null    float64\n",
      " 19  Stroke            205 non-null    float64\n",
      " 20  CompressionRatio  205 non-null    float64\n",
      " 21  HorsePower        205 non-null    int64  \n",
      " 22  PeakRPM           205 non-null    int64  \n",
      " 23  CityMPG           205 non-null    int64  \n",
      " 24  HighwayMPG        205 non-null    int64  \n",
      " 25  Price             205 non-null    float64\n",
      "dtypes: float64(8), int64(8), object(10)\n",
      "memory usage: 41.8+ KB\n"
     ]
    }
   ],
   "source": [
    "df.info()"
   ]
  },
  {
   "cell_type": "markdown",
   "id": "cf439dec-cbdb-4f29-baa8-d17b288f585f",
   "metadata": {},
   "source": [
    "There is no missing values and all data types seem correct. \n",
    "<br> Let's check unique values to make sure all values are valid."
   ]
  },
  {
   "cell_type": "code",
   "execution_count": 9,
   "id": "266ef4dc-96b9-4ce9-bf1c-b0848c65ed0c",
   "metadata": {
    "tags": []
   },
   "outputs": [
    {
     "name": "stdout",
     "output_type": "stream",
     "text": [
      "Unique values in column 'Symboling': [ 3  1  2  0 -1 -2]\n",
      "\n",
      "Unique values in column 'Company': ['alfa-romero' 'audi' 'bmw' 'chevrolet' 'dodge' 'honda' 'isuzu' 'jaguar'\n",
      " 'maxda' 'mazda' 'buick' 'mercury' 'mitsubishi' 'Nissan' 'nissan'\n",
      " 'peugeot' 'plymouth' 'porsche' 'porcshce' 'renault' 'saab' 'subaru'\n",
      " 'toyota' 'toyouta' 'vokswagen' 'volkswagen' 'vw' 'volvo']\n",
      "\n",
      "Unique values in column 'FuelType': ['gas' 'diesel']\n",
      "\n",
      "Unique values in column 'Aspiration': ['std' 'turbo']\n",
      "\n",
      "Unique values in column 'DoorNumber': ['two' 'four']\n",
      "\n",
      "Unique values in column 'CarBody': ['convertible' 'hatchback' 'sedan' 'wagon' 'hardtop']\n",
      "\n",
      "Unique values in column 'DriveWheel': ['rwd' 'fwd' '4wd']\n",
      "\n",
      "Unique values in column 'EngineLocation': ['front' 'rear']\n",
      "\n",
      "Unique values in column 'WheelBase': [ 88.6  94.5  99.8  99.4 105.8  99.5 101.2 103.5 110.   88.4  93.7 103.3\n",
      "  95.9  86.6  96.5  94.3  96.  113.  102.   93.1  95.3  98.8 104.9 106.7\n",
      " 115.6  96.6 120.9 112.  102.7  93.   96.3  95.1  97.2 100.4  91.3  99.2\n",
      " 107.9 114.2 108.   89.5  98.4  96.1  99.1  93.3  97.   96.9  95.7 102.4\n",
      " 102.9 104.5  97.3 104.3 109.1]\n",
      "\n",
      "Unique values in column 'CarLength': [168.8 171.2 176.6 177.3 192.7 178.2 176.8 189.  193.8 197.  141.1 155.9\n",
      " 158.8 157.3 174.6 173.2 144.6 150.  163.4 157.1 167.5 175.4 169.1 170.7\n",
      " 172.6 199.6 191.7 159.1 166.8 169.  177.8 175.  190.9 187.5 202.6 180.3\n",
      " 208.1 199.2 178.4 173.  172.4 165.3 170.2 165.6 162.4 173.4 181.7 184.6\n",
      " 178.5 186.7 198.9 167.3 168.9 175.7 181.5 186.6 156.9 157.9 172.  173.5\n",
      " 173.6 158.7 169.7 166.3 168.7 176.2 175.6 183.5 187.8 171.7 159.3 165.7\n",
      " 180.2 183.1 188.8]\n",
      "\n",
      "Unique values in column 'CarWidth': [64.1 65.5 66.2 66.4 66.3 71.4 67.9 64.8 66.9 70.9 60.3 63.6 63.8 64.6\n",
      " 63.9 64.  65.2 62.5 66.  61.8 69.6 70.6 64.2 65.7 66.5 66.1 70.3 71.7\n",
      " 70.5 72.  68.  64.4 65.4 68.4 68.3 65.  72.3 66.6 63.4 65.6 67.7 67.2\n",
      " 68.9 68.8]\n",
      "\n",
      "Unique values in column 'CarHeight': [48.8 52.4 54.3 53.1 55.7 55.9 52.  53.7 56.3 53.2 50.8 50.6 59.8 50.2\n",
      " 52.6 54.5 58.3 53.3 54.1 51.  53.5 51.4 52.8 47.8 49.6 55.5 54.4 56.5\n",
      " 58.7 54.9 56.7 55.4 54.8 49.4 51.6 54.7 55.1 56.1 49.7 56.  50.5 55.2\n",
      " 52.5 53.  59.1 53.9 55.6 56.2 57.5]\n",
      "\n",
      "Unique values in column 'CurbWeight': [2548 2823 2337 2824 2507 2844 2954 3086 3053 2395 2710 2765 3055 3230\n",
      " 3380 3505 1488 1874 1909 1876 2128 1967 1989 2191 2535 2811 1713 1819\n",
      " 1837 1940 1956 2010 2024 2236 2289 2304 2372 2465 2293 2734 4066 3950\n",
      " 1890 1900 1905 1945 1950 2380 2385 2500 2410 2443 2425 2670 2700 3515\n",
      " 3750 3495 3770 3740 3685 3900 3715 2910 1918 1944 2004 2145 2370 2328\n",
      " 2833 2921 2926 2365 2405 2403 1889 2017 1938 1951 2028 1971 2037 2008\n",
      " 2324 2302 3095 3296 3060 3071 3139 3020 3197 3430 3075 3252 3285 3485\n",
      " 3130 2818 2778 2756 2800 3366 2579 2460 2658 2695 2707 2758 2808 2847\n",
      " 2050 2120 2240 2190 2340 2510 2290 2455 2420 2650 1985 2040 2015 2280\n",
      " 3110 2081 2109 2275 2094 2122 2140 2169 2204 2265 2300 2540 2536 2551\n",
      " 2679 2714 2975 2326 2480 2414 2458 2976 3016 3131 3151 2261 2209 2264\n",
      " 2212 2319 2254 2221 2661 2563 2912 3034 2935 3042 3045 3157 2952 3049\n",
      " 3012 3217 3062]\n",
      "\n",
      "Unique values in column 'EngineType': ['dohc' 'ohcv' 'ohc' 'l' 'rotor' 'ohcf' 'dohcv']\n",
      "\n",
      "Unique values in column 'CylinderNumber': ['four' 'six' 'five' 'three' 'twelve' 'two' 'eight']\n",
      "\n",
      "Unique values in column 'EngineSize': [130 152 109 136 131 108 164 209  61  90  98 122 156  92  79 110 111 119\n",
      " 258 326  91  70  80 140 134 183 234 308 304  97 103 120 181 151 194 203\n",
      " 132 121 146 171 161 141 173 145]\n",
      "\n",
      "Unique values in column 'FuelSystem': ['mpfi' '2bbl' 'mfi' '1bbl' 'spfi' '4bbl' 'idi' 'spdi']\n",
      "\n",
      "Unique values in column 'BoreRatio': [3.47 2.68 3.19 3.13 3.5  3.31 3.62 2.91 3.03 2.97 3.34 3.6  2.92 3.15\n",
      " 3.43 3.63 3.54 3.08 3.33 3.39 3.76 3.58 3.46 3.8  3.78 3.17 3.35 3.59\n",
      " 2.99 3.7  3.61 3.94 3.74 2.54 3.05 3.27 3.24 3.01]\n",
      "\n",
      "Unique values in column 'Stroke': [2.68  3.47  3.4   2.8   3.19  3.39  3.03  3.11  3.23  3.46  3.9   3.41\n",
      " 3.07  3.58  4.17  2.76  3.15  3.255 3.16  3.64  3.1   3.35  3.12  3.86\n",
      " 3.29  3.27  3.52  2.19  3.21  2.9   2.07  2.36  2.64  3.08  3.5   3.54\n",
      " 2.87 ]\n",
      "\n",
      "Unique values in column 'CompressionRatio': [ 9.   10.    8.    8.5   8.3   7.    8.8   9.5   9.6   9.41  9.4   7.6\n",
      "  9.2  10.1   9.1   8.1  11.5   8.6  22.7  22.   21.5   7.5  21.9   7.8\n",
      "  8.4  21.    8.7   9.31  9.3   7.7  22.5  23.  ]\n",
      "\n",
      "Unique values in column 'HorsePower': [111 154 102 115 110 140 160 101 121 182  48  70  68  88 145  58  76  60\n",
      "  86 100  78  90 176 262 135  84  64 120  72 123 155 184 175 116  69  55\n",
      "  97 152 200  95 142 143 207 288  73  82  94  62  56 112  92 161 156  52\n",
      "  85 114 162 134 106]\n",
      "\n",
      "Unique values in column 'PeakRPM': [5000 5500 5800 4250 5400 5100 4800 6000 4750 4650 4200 4350 4500 5200\n",
      " 4150 5600 5900 5750 5250 4900 4400 6600 5300]\n",
      "\n",
      "Unique values in column 'CityMPG': [21 19 24 18 17 16 23 20 15 47 38 37 31 49 30 27 25 13 26 36 22 14 45 28\n",
      " 32 35 34 29 33]\n",
      "\n",
      "Unique values in column 'HighwayMPG': [27 26 30 22 25 20 29 28 53 43 41 38 24 54 42 34 33 31 19 17 23 32 39 18\n",
      " 16 37 50 36 47 46]\n",
      "\n",
      "Unique values in column 'Price': [13495.    16500.    13950.    17450.    15250.    17710.    18920.\n",
      " 23875.    17859.167 16430.    16925.    20970.    21105.    24565.\n",
      " 30760.    41315.    36880.     5151.     6295.     6575.     5572.\n",
      "  6377.     7957.     6229.     6692.     7609.     8558.     8921.\n",
      " 12964.     6479.     6855.     5399.     6529.     7129.     7295.\n",
      "  7895.     9095.     8845.    10295.    12945.    10345.     6785.\n",
      "  8916.5   11048.    32250.    35550.    36000.     5195.     6095.\n",
      "  6795.     6695.     7395.    10945.    11845.    13645.    15645.\n",
      "  8495.    10595.    10245.    10795.    11245.    18280.    18344.\n",
      " 25552.    28248.    28176.    31600.    34184.    35056.    40960.\n",
      " 45400.    16503.     5389.     6189.     6669.     7689.     9959.\n",
      "  8499.    12629.    14869.    14489.     6989.     8189.     9279.\n",
      "  5499.     7099.     6649.     6849.     7349.     7299.     7799.\n",
      "  7499.     7999.     8249.     8949.     9549.    13499.    14399.\n",
      " 17199.    19699.    18399.    11900.    13200.    12440.    13860.\n",
      " 15580.    16900.    16695.    17075.    16630.    17950.    18150.\n",
      " 12764.    22018.    32528.    34028.    37028.    31400.5    9295.\n",
      "  9895.    11850.    12170.    15040.    15510.    18620.     5118.\n",
      "  7053.     7603.     7126.     7775.     9960.     9233.    11259.\n",
      "  7463.    10198.     8013.    11694.     5348.     6338.     6488.\n",
      "  6918.     7898.     8778.     6938.     7198.     7788.     7738.\n",
      "  8358.     9258.     8058.     8238.     9298.     9538.     8449.\n",
      "  9639.     9989.    11199.    11549.    17669.     8948.    10698.\n",
      "  9988.    10898.    11248.    16558.    15998.    15690.    15750.\n",
      "  7975.     7995.     8195.     9495.     9995.    11595.     9980.\n",
      " 13295.    13845.    12290.    12940.    13415.    15985.    16515.\n",
      " 18420.    18950.    16845.    19045.    21485.    22470.    22625.   ]\n",
      "\n"
     ]
    }
   ],
   "source": [
    "unique_values = {column: data[column].unique() for column in data.columns}\n",
    "\n",
    "# Print unique values for each column\n",
    "for column, values in unique_values.items():\n",
    "    print(f\"Unique values in column '{column}': {values}\")\n",
    "    print()"
   ]
  },
  {
   "cell_type": "code",
   "execution_count": 10,
   "id": "bee53598-99df-4d1b-888d-f9f2ecdb15ed",
   "metadata": {},
   "outputs": [],
   "source": [
    "# Fix inconsistencies with Company names\n",
    "data['Company'] = data['Company'].replace({'alfa-romero': 'alfa-romeo', 'maxda': 'mazda', 'toyouta': 'toyota',\n",
    "                                       'porcshce': 'porsche', 'vokswagen': 'volkswagen', 'vw': 'volkswagen', 'Nissan': 'nissan'})"
   ]
  },
  {
   "cell_type": "code",
   "execution_count": 11,
   "id": "0603c67d-3c01-4b71-bbe8-70efe3c2d67b",
   "metadata": {},
   "outputs": [
    {
     "data": {
      "text/plain": [
       "array(['alfa-romeo', 'audi', 'bmw', 'chevrolet', 'dodge', 'honda',\n",
       "       'isuzu', 'jaguar', 'mazda', 'buick', 'mercury', 'mitsubishi',\n",
       "       'nissan', 'peugeot', 'plymouth', 'porsche', 'renault', 'saab',\n",
       "       'subaru', 'toyota', 'volkswagen', 'volvo'], dtype=object)"
      ]
     },
     "execution_count": 11,
     "metadata": {},
     "output_type": "execute_result"
    }
   ],
   "source": [
    "data['Company'].unique()"
   ]
  },
  {
   "cell_type": "code",
   "execution_count": 12,
   "id": "7a57c081-bdb1-4e62-b8b6-e4a2790401ef",
   "metadata": {},
   "outputs": [
    {
     "data": {
      "text/plain": [
       "0"
      ]
     },
     "execution_count": 12,
     "metadata": {},
     "output_type": "execute_result"
    }
   ],
   "source": [
    "# Duplicates check\n",
    "data.duplicated().sum()"
   ]
  },
  {
   "cell_type": "markdown",
   "id": "ee3defb3-a056-48d9-a81b-968139e814ee",
   "metadata": {},
   "source": [
    "Now dataset is clean and ready for the analysis"
   ]
  },
  {
   "cell_type": "markdown",
   "id": "6ae6e039-b21f-4cf6-9210-682194c9eee3",
   "metadata": {},
   "source": [
    "## Exploratory Data Analysis (EDA)"
   ]
  },
  {
   "cell_type": "markdown",
   "id": "5ee1d9df-2917-4b82-8742-6efa77334246",
   "metadata": {
    "tags": []
   },
   "source": [
    "Since the independent variable (Price) is continuous numerical variable, and there are many dependat variables, we we will use ***Multiple Linear Regression***.\n",
    "\n",
    "Multiple regression analysis relies on several key assumptions:\n",
    "\n",
    "Before model construction:\n",
    "\n",
    ">Linearity: The relationship between the dependent and independent variables is linear, to verify this, ensure that the dispersion graph is linear. <br>\n",
    "No or Little Multicollinearity: Independent variables should not be too highly correlated with each other. This assumption is tested using Correlation Matrix.\n",
    "\n",
    "After model construction:\n",
    "\n",
    ">Independence of Errors: The residuals (errors) are independent of each other.<br>\n",
    "Homoscedasticity: The variance of error terms is constant across all levels of the independent variables.<br>\n",
    "Normality of Residuals: The residuals of the model are normally distributed."
   ]
  },
  {
   "cell_type": "code",
   "execution_count": 13,
   "id": "4ed080c8-0b36-4c0c-9b81-8e3e93d77fce",
   "metadata": {
    "tags": []
   },
   "outputs": [
    {
     "name": "stdout",
     "output_type": "stream",
     "text": [
      "        WheelBase   CarLength    CarWidth   CarHeight   CurbWeight  \\\n",
      "count  205.000000  205.000000  205.000000  205.000000   205.000000   \n",
      "mean    98.756585  174.049268   65.907805   53.724878  2555.565854   \n",
      "std      6.021776   12.337289    2.145204    2.443522   520.680204   \n",
      "min     86.600000  141.100000   60.300000   47.800000  1488.000000   \n",
      "25%     94.500000  166.300000   64.100000   52.000000  2145.000000   \n",
      "50%     97.000000  173.200000   65.500000   54.100000  2414.000000   \n",
      "75%    102.400000  183.100000   66.900000   55.500000  2935.000000   \n",
      "max    120.900000  208.100000   72.300000   59.800000  4066.000000   \n",
      "\n",
      "       EngineSize   BoreRatio      Stroke  CompressionRatio  HorsePower  \\\n",
      "count  205.000000  205.000000  205.000000        205.000000  205.000000   \n",
      "mean   126.907317    3.329756    3.255415         10.142537  104.117073   \n",
      "std     41.642693    0.270844    0.313597          3.972040   39.544167   \n",
      "min     61.000000    2.540000    2.070000          7.000000   48.000000   \n",
      "25%     97.000000    3.150000    3.110000          8.600000   70.000000   \n",
      "50%    120.000000    3.310000    3.290000          9.000000   95.000000   \n",
      "75%    141.000000    3.580000    3.410000          9.400000  116.000000   \n",
      "max    326.000000    3.940000    4.170000         23.000000  288.000000   \n",
      "\n",
      "           PeakRPM     CityMPG  HighwayMPG         Price  \n",
      "count   205.000000  205.000000  205.000000    205.000000  \n",
      "mean   5125.121951   25.219512   30.751220  13276.710571  \n",
      "std     476.985643    6.542142    6.886443   7988.852332  \n",
      "min    4150.000000   13.000000   16.000000   5118.000000  \n",
      "25%    4800.000000   19.000000   25.000000   7788.000000  \n",
      "50%    5200.000000   24.000000   30.000000  10295.000000  \n",
      "75%    5500.000000   30.000000   34.000000  16503.000000  \n",
      "max    6600.000000   49.000000   54.000000  45400.000000  \n"
     ]
    }
   ],
   "source": [
    "# Symboling is categorical variable\n",
    "data['Symboling'] = data['Symboling'].astype(str)\n",
    "\n",
    "# Segregation of Numerical and Categorical Variables/Columns\n",
    "num_columns = data.select_dtypes(include=['number']).columns\n",
    "cat_columns = data.select_dtypes(include=['object']).columns\n",
    "\n",
    "# Summary statistics for numerical columns\n",
    "print(data[num_columns].describe())"
   ]
  },
  {
   "cell_type": "markdown",
   "id": "679e7020-0d12-40c2-9f52-444b082a93a7",
   "metadata": {},
   "source": [
    "### Visualizing Dependent Variable (Price)"
   ]
  },
  {
   "cell_type": "code",
   "execution_count": 14,
   "id": "c1ac2190-610f-4262-8b06-72d6c654e8e3",
   "metadata": {},
   "outputs": [
    {
     "data": {
      "image/png": "iVBORw0KGgoAAAANSUhEUgAAAYMAAAEICAYAAAC9E5gJAAAAOXRFWHRTb2Z0d2FyZQBNYXRwbG90bGliIHZlcnNpb24zLjcuMiwgaHR0cHM6Ly9tYXRwbG90bGliLm9yZy8pXeV/AAAACXBIWXMAAAsTAAALEwEAmpwYAAAd3UlEQVR4nO3df3RX9Z3n8efLSERRSoCsqwTBMzIWZHdp+x20R+aMcY4Itjuke7qOsTOwklParTB2Z1aEZs7Yaplj2W2tpK0dOqTCtIa6nRYzHl3KaroddooaKtVA6jEtsiSiRgOicADF9/7x/cT9GvPjG/gmXwKvxzn35N73/dx735dz+L6/937u934UEZiZ2ZntrGInYGZmxediYGZmLgZmZuZiYGZmuBiYmRkuBmZmhouBWb8k/aGk54udx3CRNFVSSDq72LnY8HIxsFOOpJslNUt6S9I+SY9JmlOgfXd/2L2VphclreirfUT8c0RcXohj98ijRtJvJL0p6RVJj0q6oNDHMcuXi4GdUiT9JfBN4G+BC4FLgO8AC05gX/19ux0XEecD1cDfSJo3yO1PmKQ/Int+1RFxATAd+NEJ7svf4K0gXAzslCHpQ8BdwK0R8ZOIOBQRb0fEP0XE7anNbEm/lHQgXTV8S1Jpzj5C0q2SXgBeGOiYEfFLYCcwU9I1ktol3SHpZeD73bGc/U+W9BNJnZJel/StnHWLJbVK2i9ps6QpfRz2D4BfRsQzKYeuiFgfEW+m/Twg6buStqQrh/+du6/ezlHSJyXtSP8u/yLp3+a0XyHpt2lfuyR9KmddiaT/Luk1Sb8DPjHQv5mdnlwM7FTycWA08NN+2hwH/gswMbX/Y+ALPdpUAVcCM/o7mLKuBq4Anknhfw2MB6YAS3q0LwEeAfYAU4FJwMa0bgHwJeA/AOXAPwMNfRz6SeB6SV+RdLWkc3pp8xng7nSeO4Af9nWOkj4C1AOfAyYAfwc05uz3t8AfAh8CvgL8QNJFad1ngU8CHwEywKf7yNlOdxHhydMpMZH9AHx5kNt8EfhpznIA1/bTfmpqcwDYD7QCf5HWXQMcA0bntL8GaE/zHwc6gbN72e9jQE3O8lnAYWBKH3nMB/4p5fEW8A2gJK17ANiY0/Z8skVwcm/nCNwP3N1j/88Df9THsXcAC9L8E8Dnc9bNTfv/wDl6Or0n32+0U8nrwERJZ0fEO701kPT7ZD84M8B5wNnA9h7N9uZxrIl9HKMzIo70sc1kYE8f200B7pP09dx0yV497OnZOCIeAx6TdBZQCfwPsh/gf9fzHCLiLUldwMU58dxznAIskrQsJ1aa2iNpIfCXZAshZIvLxDSfu096y9XODL5NZKeSXwJHyd4C6cv9wG+AaRExluytGfVoczKv4u1v273AJX102u4FPhcR43KmcyPiX/o9WMS7EfE42W/oM3NWTe6ekXQ+2VtXL/WR515gVY9jnxcRDamv4XvAUmBCRIwDWvj//2b7co9FtsPezkAuBnbKiIg3gL8Bvi2pStJ5kkZJmi9pdWp2AXAQeEvSh4H/PIwpPkX2w/MeSWMkjU59DgDfBVZKugKyneGS/mNvO5G0QNJNkspSv8Vs4I+AbTnNbpA0J3WO3w1si4i+rni+B3xe0pVpf2MkfSI9qjqGbOHoTMe+hfcXnYeAv5BUIakM6PMxWzu9uRjYKSUivk72lsZfk/0A20v2W+2m1OS/AjcDb5L9EDyhRzJPMLfjwL8HLgP+L9AO/Gla91Pga8BGSQfJfvue38eu9pPtuH2BbGH7AfDfIiK3k/hB4E6gC/gY8Gf95NWc9vettO824D+ldbuAr5O96noF+DfA/8nZ/HvAZuDXwK+Anwz072CnJ0V4cBuzU4mkB8h2Wv91sXOxM4evDMzMzMXAzMx8m8jMzPCVgZmZwcj90dnEiRNj6tSpxU7DzGxE2b59+2sRUd4zPmKLwdSpU2lubi52GmZmI4qkXn9l7ttEZmbmYmBmZi4GZmaGi4GZmeFiYGZmuBiYFUxDQwMzZ86kpKSEmTNn0tDQ10BnZqeeEftoqdmppKGhgdraWtatW8ecOXPYunUrNTU1AFRXVxc5O7OB5X1lkAbOfkbSI2n5AUm70yDcOyTNSnFJWiOpTdKzkj6as49Fkl5I06Kc+MckPZe2WSOp52AlZqe0VatWsW7dOiorKxk1ahSVlZWsW7eOVatWFTs1s7wM5jbRbWTHi811e0TMStOOFJsPTEvTErIjUyFpPNn3s18JzAbuTINpkNp8Nme7eYM/FbPiaW1tZc6cOe+LzZkzh9bWnv9lzE5NeRUDSRXAJ4C/z6P5AmBDZG0Dxkm6CLge2BIRXRGxH9gCzEvrxkbEtsi+NW8D/Q97aHbKmT59Olu3bn1fbOvWrUyfPr1IGZkNTr5XBt8ElgPv9oivSreC7pV0TopN4v0DbLenWH/x9l7iHyBpiaRmSc2dnZ15pm429Gpra6mpqaGpqYm3336bpqYmampqqK2tLXZqZnkZsANZ0ieBVyNiu6RrclatBF4GSoG1wB3AXUOQ43siYm06FplMxu/etlNGdyfxsmXLaG1tZfr06axatcqdxzZi5PM00dXAn0i6ARgNjJX0g4joHpP1qKTvkx2bFqADmJyzfUWKdQDX9Ij/PMUremlvNqJUV1f7w99GrAFvE0XEyoioiIipwE3AExHxZ+leP+nJnyqyA4ADNAIL01NFVwFvRMQ+soNuz5VUljqO5wKb07qDkq5K+1oIPFzY0zQzs/6czO8MfiipHBCwA/h8ij8K3AC0AYeBWwAiokvS3cDTqd1dEdGV5r8APACcCzyWJjMzGyYjdtjLTCYTHs/AzGxwJG2PiEzPuF9HYWZmLgZmZuZiYGZmuBiYmRkuBmZmhouBmZnhYmBmZrgYmJkZLgZmZoaLgVnBeAxkG8k8BrJZAXgMZBvp/G4iswKYOXMmVVVVbNq06b3xDLqXW1paBt6B2TDp691EvjIwK4Bdu3Zx+PDhD1wZvPjii8VOzSwv7jMwK4DS0lKWLl1KZWUlo0aNorKykqVLl1JaWlrs1Mzy4mJgVgDHjh2jrq7ufWMg19XVcezYsWKnZpYX3yYyK4AZM2ZQVVX1vjGQP/OZz7Bp06Zip2aWl7yvDCSVSHpG0iNp+VJJT0pqk/QjSaUpfk5abkvrp+bsY2WKPy/p+pz4vBRrk7SigOdnNixqa2t58MEHqaur48iRI9TV1fHggw9SW1tb7NTM8jKYK4PbgFZgbFr+GnBvRGyU9F2gBrg//d0fEZdJuim1+1NJM8iOoXwFcDHwvyT9ftrXt4HrgHbgaUmNEbHrJM/NbNh0Pz6ae2WwatUqP1ZqI0ZeVwaSKoBPAH+flgVcC/w4NVkPVKX5BWmZtP6PU/sFwMaIOBoRu8mOkTw7TW0R8buIOAZsTG3NRpTq6mpaWlo4fvw4LS0tLgQ2ouR7m+ibwHLg3bQ8ATgQEe+k5XZgUpqfBOwFSOvfSO3fi/fYpq/4B0haIqlZUnNnZ2eeqZuZ2UAGLAaSPgm8GhHbhyGffkXE2ojIRESmvLy82OmYmZ028ukzuBr4E0k3AKPJ9hncB4yTdHb69l8BdKT2HcBkoF3S2cCHgNdz4t1yt+krbmZmw2DAK4OIWBkRFRExlWwH8BMR8RmgCfh0arYIeDjNN6Zl0vonIvvOi0bgpvS00aXANOAp4GlgWno6qTQdo7EgZ2dmZnk5md8Z3AFslPRV4BlgXYqvA/5BUhvQRfbDnYjYKekhYBfwDnBrRBwHkLQU2AyUAPURsfMk8jIzs0Hyi+rMzM4gfb2ozq+jMDMzFwMzM3MxMDMzXAzMzAwXAzMzw8XArGAaGhqYOXMmJSUlzJw5k4aGhmKnZJY3FwOzAmhoaOC2227j0KFDRASHDh3itttuc0GwEcPFwKwAli9fTklJCfX19Rw9epT6+npKSkpYvnx5sVMzy4uLgVkBtLe3s2HDhveNgbxhwwba29uLnZpZXlwMzMzMYyCbFUJFRQU33ngj48aNY8+ePUyZMoUDBw5QUVFR7NTM8uIrA7MCqKqq4uDBgxw5cgRJHDlyhIMHD1JVVVXs1Mzy4mJgVgBNTU2sXLmSCRMmADBhwgRWrlxJU1NTkTMzy4+LgVkBtLa2cvnll78vdvnll9Pa2lqkjMwGx30GZgVw8cUXs3z5ch588EHmzJnD1q1bufnmm7n44ouLnZpZXvIZA3m0pKck/VrSTklfSfEHJO2WtCNNs1JcktZIapP0rKSP5uxrkaQX0rQoJ/4xSc+lbdZI0hCcq9mQOnLkCIsXL2b06NEsXryYI0eOFDsls7zlc2VwFLg2It6SNArYKumxtO72iPhxj/bzyQ5pOQ24ErgfuFLSeOBOIAMEsF1SY0TsT20+CzwJPArMAx7DbITo6Ohg4sSJAHQPGDVq1Cg6Ojyct40M+YyBHBHxVloclab+hkdbAGxI220Dxkm6CLge2BIRXakAbAHmpXVjI2JbGit5A1B14qdkNvxKS0tZsWIFu3fv5t1332X37t2sWLGC0tLSYqdmlpe8OpAllUjaAbxK9gP9ybRqVboVdK+kc1JsErA3Z/P2FOsv3t5LvLc8lkhqltTc2dmZT+pmw+LYsWPU1dXR1NTE22+/TVNTE3V1dRw7dqzYqZnlJa9iEBHHI2IWUAHMljQTWAl8GPgDYDxwx1AlmZPH2ojIRESmvLx8qA9nlrcZM2Ywa9Ys5s+fT2lpKfPnz2fWrFnMmDGj2KmZ5WVQj5ZGxAGgCZgXEfvSraCjwPeB2alZBzA5Z7OKFOsvXtFL3GzEqKyspLGxkbKyMs466yzKyspobGyksrKy2KmZ5SWfp4nKJY1L8+cC1wG/Sff6SU/+VAEtaZNGYGF6qugq4I2I2AdsBuZKKpNUBswFNqd1ByVdlfa1EHi4kCdpNtQ2bdrE2LFjGT16NBHB6NGjGTt2LJs2bSp2amZ5yedpoouA9ZJKyBaPhyLiEUlPSCoHBOwAPp/aPwrcALQBh4FbACKiS9LdwNOp3V0R0ZXmvwA8AJxL9ikiP0lkI0p7ezs/+9nPuO66696Lbdmyhblz5xYxK7P8DVgMIuJZ4CO9xK/to30At/axrh6o7yXeDMwcKBczMxsafh2FWQFUVFSwcOHC9z1NtHDhQr+11EYMFwOzAli9ejXHjx9n8eLFnHPOOSxevJjjx4+zevXqYqdmlhcXA7MCqK6u5r777mPMmDFIYsyYMdx3331UV1cXOzWzvLgYmJmZ31pqVggNDQ3U1taybt26995aWlNTA+CrAxsR1P1SrZEmk8lEc3NzsdMwA2DmzJlUVVWxadMmWltbmT59+nvLLS0tA+/AbJhI2h4RmZ5xXxmYFcCuXbs4dOgQ9fX1710ZLF68mD179hQ7NbO8uM/ArABKS0tZtmwZlZWVjBo1isrKSpYtW+a3ltqI4dtEZgVw1llnMXHiRMaMGcOePXuYMmUKhw4d4rXXXuPdd98tdnpm7/FtIrMhNGnSJLq6ujhw4AARQUdHB6NGjWLSpF7fxm52yvFtIrMCOHz4MEePHuWee+7h0KFD3HPPPRw9epTDhw8XOzWzvLgYmBVAV1cXt99+O/X19VxwwQXU19dz++2309XVNfDGZqcAFwMzM3MxMCuE8ePHs3r1ahYvXsybb77J4sWLWb16NePHjy92amZ5cTEwK4DzzjuPsWPHUldXx/nnn09dXR1jx47lvPPOK3ZqZnlxMTArgJdeeok1a9a870V1a9as4aWXXip2amZ5yWfYy9GSnpL0a0k7JX0lxS+V9KSkNkk/klSa4uek5ba0fmrOvlam+POSrs+Jz0uxNkkrhuA8zYbU9OnTqaiooKWlhePHj9PS0kJFRQXTp08vdmpmecnnyuAocG1E/DtgFjAvjW38NeDeiLgM2A/UpPY1wP4Uvze1Q9IM4CbgCmAe8B1JJWk4zW8D84EZQHVqazZi1NbWUlNT877BbWpqaqitrS12amZ5yWfYywDeSouj0hTAtcDNKb4e+DJwP7AgzQP8GPhWGuh+AbAxIo4CuyW1AbNTu7aI+B2ApI2p7a6TOTGz4dT9ZtJly5a996K6VatW+Y2lNmLk9Qvk9O19O3AZ2W/xvwUORMQ7qUk70P1Ty0nAXoCIeEfSG8CEFN+Ws9vcbfb2iF/ZRx5LgCUAl1xyST6pmw2b6upqf/jbiJVXB3JEHI+IWUAF2W/zHx7KpPrJY21EZCIiU15eXowUzMxOS4N6migiDgBNwMeBcZK6rywqgI403wFMBkjrPwS8nhvvsU1fcTMzGyb5PE1ULmlcmj8XuA5oJVsUPp2aLQIeTvONaZm0/onU79AI3JSeNroUmAY8BTwNTEtPJ5WS7WRuLMC5mZlZnvLpM7gIWJ/6Dc4CHoqIRyTtAjZK+irwDLAutV8H/EPqIO4i++FOROyU9BDZjuF3gFsj4jiApKXAZqAEqI+InQU7QzMzG5DHMzAzO4P0NZ6Bf4FsZmYuBmZm5pHOzAaU/c3k0Bupt2zt9OBiYDaAwX5IS/IHu404vk1kZmYuBmZm5mJgZma4GJiZGS4GZmaGi4GZmeFiYGZmuBiYmRkuBmZmhouBmZnhYmBmZuQ30tlkSU2SdknaKem2FP+ypA5JO9J0Q842KyW1SXpe0vU58Xkp1iZpRU78UklPpviP0ohnZmY2TPK5MngH+KuImAFcBdwqaUZad29EzErTowBp3U3AFcA84DuSStJIad8G5gMzgOqc/Xwt7esyYD9QU6DzMzOzPAxYDCJiX0T8Ks2/SXb840n9bLIA2BgRRyNiN9AGzE5TW0T8LiKOARuBBcq+H/ha4Mdp+/VA1Qmej5mZnYBB9RlImgp8BHgyhZZKelZSvaSyFJsE7M3ZrD3F+opPAA5ExDs94r0df4mkZknNnZ2dg0ndzMz6kXcxkHQ+8I/AFyPiIHA/8HvALGAf8PWhSDBXRKyNiExEZMrLy4f6cGZmZ4y8BreRNIpsIfhhRPwEICJeyVn/PeCRtNgBTM7ZvCLF6CP+OjBO0tnp6iC3vZmZDYN8niYSsA5ojYhv5MQvymn2KaAlzTcCN0k6R9KlwDTgKeBpYFp6cqiUbCdzY2SHhGoCPp22XwQ8fHKnZWZmg5HPlcHVwJ8Dz0nakWJfIvs00CwggBeBzwFExE5JDwG7yD6JdGtEHAeQtBTYDJQA9RGxM+3vDmCjpK8Cz5AtPmZmNkw0UsdqzWQy0dzcXOw0zD7AYyDbqUzS9ojI9Iz7F8hmZuZiYGZmLgZmZoaLgZmZ4WJgZma4GJiZGS4GZmaGi4GZmeFiYGZmuBiYmRkuBmZmhouBmZnhYmBmZrgYmJkZLgZmZoaLgZmZkd+wl5MlNUnaJWmnpNtSfLykLZJeSH/LUlyS1khqk/SspI/m7GtRav+CpEU58Y9Jei5tsyYNtWlmZsMknyuDd4C/iogZwFXArZJmACuAxyNiGvB4WgaYT3bc42nAEuB+yBYP4E7gSmA2cGd3AUltPpuz3byTPzUzM8vXgMUgIvZFxK/S/JtAKzAJWACsT83WA1VpfgGwIbK2AeMkXQRcD2yJiK6I2A9sAealdWMjYltkxwrckLMvMzMbBoPqM5A0FfgI8CRwYUTsS6teBi5M85OAvTmbtadYf/H2XuK9HX+JpGZJzZ2dnYNJ3czM+pF3MZB0PvCPwBcj4mDuuvSNfshHAI+ItRGRiYhMeXn5UB/OzOyMkVcxkDSKbCH4YUT8JIVfSbd4SH9fTfEOYHLO5hUp1l+8ope4mZkNk3yeJhKwDmiNiG/krGoEup8IWgQ8nBNfmJ4qugp4I91O2gzMlVSWOo7nApvTuoOSrkrHWpizLzMzGwZn59HmauDPgeck7UixLwH3AA9JqgH2ADemdY8CNwBtwGHgFoCI6JJ0N/B0andXRHSl+S8ADwDnAo+lyczMhomyt/tHnkwmE83NzcVOw+wDJDFS/1/Z6U/S9ojI9Iz7F8hmZuZiYGZmLgZmZoaLgZmZ4WJgZma4GJiZGS4GZmaGi4GZmeFiYGZmuBiYmRkuBmZmRn4vqjM7bYwfP579+/cP+XGGehjvsrIyurq6Bm5olicXAzuj7N+//7R4idxQFxs78/g2kZmZuRiYmVl+I53VS3pVUktO7MuSOiTtSNMNOetWSmqT9Lyk63Pi81KsTdKKnPilkp5M8R9JKi3kCZqZ2cDyuTJ4AJjXS/zeiJiVpkcBJM0AbgKuSNt8R1KJpBLg28B8YAZQndoCfC3t6zJgP1BzMidkZmaDN2AxiIhfAPk+trAA2BgRRyNiN9mhL2enqS0ifhcRx4CNwII05vG1wI/T9uuBqsGdgpmZnayT6TNYKunZdBupLMUmAXtz2rSnWF/xCcCBiHinR7xXkpZIapbU3NnZeRKpm5lZrhMtBvcDvwfMAvYBXy9UQv2JiLURkYmITHl5+XAc0szsjHBCvzOIiFe65yV9D3gkLXYAk3OaVqQYfcRfB8ZJOjtdHeS2NzOzYXJCVwaSLspZ/BTQ/aRRI3CTpHMkXQpMA54CngampSeHSsl2MjdG9tc/TcCn0/aLgIdPJCczMztxA14ZSGoArgEmSmoH7gSukTQLCOBF4HMAEbFT0kPALuAd4NaIOJ72sxTYDJQA9RGxMx3iDmCjpK8CzwDrCnVyZmaWH43Un+ZnMplobm4udho2wkg6bV5HcTqchw0/SdsjItMz7l8gm5mZi4GZmbkYmJkZLgZmZoaLgZmZ4WJgZma4GJiZGS4GZmaGi4GZmeFiYGZmuBiYmRkuBmZmhouBmZnhYmBmZrgYmJkZLgZmZkYexUBSvaRXJbXkxMZL2iLphfS3LMUlaY2kNknPSvpozjaLUvsXJC3KiX9M0nNpmzWSVOiTNDOz/uVzZfAAMK9HbAXweERMAx5PywDzyY57PA1YAtwP2eJBdrjMK4HZwJ3dBSS1+WzOdj2PZWZmQ2zAMZAj4heSpvYILyA7LjLAeuDnZMcyXgBsSAPdb5M0TtJFqe2WiOgCkLQFmCfp58DYiNiW4huAKuCxkzkps77EnWPhyx8qdhonLe4cW+wU7DQzYDHow4URsS/NvwxcmOYnAXtz2rWnWH/x9l7ivZK0hOwVB5dccskJpm5nMn3l4GkxdrAk4svFzsJOJyfdgZyuAoblf1dErI2ITERkysvLh+OQZmZnhBMtBq+k2z+kv6+meAcwOaddRYr1F6/oJW5mZsPoRItBI9D9RNAi4OGc+ML0VNFVwBvpdtJmYK6kstRxPBfYnNYdlHRVeopoYc6+zMxsmAzYZyCpgWwH8ERJ7WSfCroHeEhSDbAHuDE1fxS4AWgDDgO3AEREl6S7gadTu7u6O5OBL5B9Yulcsh3H7jw2MxtmGqmdaZlMJpqbm4udho0wkk6fDuTT4Dxs+EnaHhGZnnH/AtnMzFwMzMzMxcDMzHAxMDMzXAzMzIwTfx2F2Yh1OrwYt6ysbOBGZoPgYmBnlOF4HNOPfdpI5NtEZmbmYmBmZi4GZmaGi4GZmeFiYGZmuBiYmRkuBmZmhouBmZlxksVA0ouSnpO0Q1Jzio2XtEXSC+lvWYpL0hpJbZKelfTRnP0sSu1fkLSor+OZmdnQKMSVQWVEzMoZLGEF8HhETAMeT8sA84FpaVoC3A/Z4kF29LQrgdnAnd0FxMzMhsdQ3CZaAKxP8+uBqpz4hsjaBoyTdBFwPbAlIroiYj+wBZg3BHmZmVkfTrYYBPAzSdslLUmxC9NA9wAvAxem+UnA3pxt21Osr/gHSFoiqVlSc2dn50mmbpYfSYOaTmSb0+HleTayneyL6uZERIekfwVskfSb3JUREZIK9sauiFgLrIXsGMiF2q9Zf/zSOTsTnNSVQUR0pL+vAj8le8//lXT7h/T31dS8A5ics3lFivUVNzOzYXLCxUDSGEkXdM8Dc4EWoBHofiJoEfBwmm8EFqaniq4C3ki3kzYDcyWVpY7juSlmZmbD5GRuE10I/DTd6zwbeDAi/qekp4GHJNUAe4AbU/tHgRuANuAwcAtARHRJuht4OrW7KyK6TiIvMzMbJI3U+6GZTCaam5uLnYaZ2YgiaXvOTwHe418gm5mZi4GZmbkYmJkZLgZmZsYI7kCW1En2aSWzU81E4LViJ2HWhykRUd4zOGKLgdmpSlJzb09rmJ3KfJvIzMxcDMzMzMXAbCisLXYCZoPlPgMzM/OVgZmZuRiYmRkuBmYFI6le0quSWoqdi9lguRiYFc4DePxuG6FcDMwKJCJ+AXgsDhuRXAzMzMzFwMzMXAzMzAwXAzMzw8XArGAkNQC/BC6X1C6pptg5meXLr6MwMzNfGZiZmYuBmZnhYmBmZrgYmJkZLgZmZoaLgZmZ4WJgZmbA/wPmCnkF5sqrdQAAAABJRU5ErkJggg==\n",
      "text/plain": [
       "<Figure size 432x288 with 1 Axes>"
      ]
     },
     "metadata": {
      "needs_background": "light"
     },
     "output_type": "display_data"
    }
   ],
   "source": [
    "plt.title('Car Price Spread')\n",
    "plt.boxplot(data.Price)\n",
    "plt.show()"
   ]
  },
  {
   "cell_type": "markdown",
   "id": "57c83c9e-cb4f-4448-a0cc-d817f7f86c63",
   "metadata": {},
   "source": [
    "According to the box-mustache, the price field has an average around 13K and a median around 10k with the most expensive car values at 45k and the cheapest cars at 5k.\n",
    "<br>**Note:** there are outliers that should be dealt with\n",
    "\n",
    "Since the mean is larger then median, distribution is positively asymmetric, as shown in the following histogram:"
   ]
  },
  {
   "cell_type": "code",
   "execution_count": 15,
   "id": "7089dfce-f020-4e05-adbd-2a5df2d68c82",
   "metadata": {},
   "outputs": [
    {
     "name": "stderr",
     "output_type": "stream",
     "text": [
      "C:\\Users\\Dorka\\AppData\\Local\\Packages\\PythonSoftwareFoundation.Python.3.9_qbz5n2kfra8p0\\LocalCache\\local-packages\\Python39\\site-packages\\seaborn\\axisgrid.py:118: UserWarning: The figure layout has changed to tight\n",
      "  self._figure.tight_layout(*args, **kwargs)\n",
      "C:\\Users\\Dorka\\AppData\\Local\\Temp/ipykernel_4628/4096310512.py:3: UserWarning: The figure layout has changed to tight\n",
      "  plt.tight_layout()\n"
     ]
    },
    {
     "data": {
      "text/plain": [
       "<Figure size 720x720 with 0 Axes>"
      ]
     },
     "metadata": {},
     "output_type": "display_data"
    },
    {
     "data": {
      "image/png": "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\n",
      "text/plain": [
       "<Figure size 360x360 with 1 Axes>"
      ]
     },
     "metadata": {
      "needs_background": "light"
     },
     "output_type": "display_data"
    }
   ],
   "source": [
    "plt.figure(figsize=(10, 10))\n",
    "import warnings\n",
    "warnings.filterwarnings(\"ignore\", message=\"The figure layout has changed to tight\")"\n,
    "sns.displot(data.Price, kde=True)\n",
    "plt.show()"
   ]
  },
  {
   "cell_type": "markdown",
   "id": "d996b2c7-80bb-4c28-85d1-7add47add077",
   "metadata": {},
   "source": [
    "### Visualizing Independent Variables"
   ]
  },
  {
   "cell_type": "markdown",
   "id": "d4a0cf2d-36d5-4481-88a4-48504f01db2b",
   "metadata": {},
   "source": [
    "#### Numerical Variables"
   ]
  },
  {
   "cell_type": "markdown",
   "id": "a9ea3b25-3041-4416-916f-e78685768a72",
   "metadata": {},
   "source": [
    "##### 1. Checking the linear relationship between the numerical independent variables and the dependent variable \"Price\""
   ]
  },
  {
   "cell_type": "code",
   "execution_count": 16,
   "id": "12d8b567-930e-4446-84a2-3c35a6d97e83",
   "metadata": {},
   "outputs": [
    {
     "data": {
      "text/html": [
       "<div>\n",
       "<style scoped>\n",
       "    .dataframe tbody tr th:only-of-type {\n",
       "        vertical-align: middle;\n",
       "    }\n",
       "\n",
       "    .dataframe tbody tr th {\n",
       "        vertical-align: top;\n",
       "    }\n",
       "\n",
       "    .dataframe thead th {\n",
       "        text-align: right;\n",
       "    }\n",
       "</style>\n",
       "<table border=\"1\" class=\"dataframe\">\n",
       "  <thead>\n",
       "    <tr style=\"text-align: right;\">\n",
       "      <th></th>\n",
       "      <th>WheelBase</th>\n",
       "      <th>CarLength</th>\n",
       "      <th>CarWidth</th>\n",
       "      <th>CarHeight</th>\n",
       "      <th>CurbWeight</th>\n",
       "      <th>EngineSize</th>\n",
       "      <th>BoreRatio</th>\n",
       "      <th>Stroke</th>\n",
       "      <th>CompressionRatio</th>\n",
       "      <th>HorsePower</th>\n",
       "      <th>PeakRPM</th>\n",
       "      <th>CityMPG</th>\n",
       "      <th>HighwayMPG</th>\n",
       "      <th>Price</th>\n",
       "    </tr>\n",
       "  </thead>\n",
       "  <tbody>\n",
       "    <tr>\n",
       "      <th>WheelBase</th>\n",
       "      <td>1.000000</td>\n",
       "      <td>0.874587</td>\n",
       "      <td>0.795144</td>\n",
       "      <td>0.589435</td>\n",
       "      <td>0.776386</td>\n",
       "      <td>0.569329</td>\n",
       "      <td>0.488750</td>\n",
       "      <td>0.160959</td>\n",
       "      <td>0.249786</td>\n",
       "      <td>0.353294</td>\n",
       "      <td>-0.360469</td>\n",
       "      <td>-0.470414</td>\n",
       "      <td>-0.544082</td>\n",
       "      <td>0.577816</td>\n",
       "    </tr>\n",
       "    <tr>\n",
       "      <th>CarLength</th>\n",
       "      <td>0.874587</td>\n",
       "      <td>1.000000</td>\n",
       "      <td>0.841118</td>\n",
       "      <td>0.491029</td>\n",
       "      <td>0.877728</td>\n",
       "      <td>0.683360</td>\n",
       "      <td>0.606454</td>\n",
       "      <td>0.129533</td>\n",
       "      <td>0.158414</td>\n",
       "      <td>0.552623</td>\n",
       "      <td>-0.287242</td>\n",
       "      <td>-0.670909</td>\n",
       "      <td>-0.704662</td>\n",
       "      <td>0.682920</td>\n",
       "    </tr>\n",
       "    <tr>\n",
       "      <th>CarWidth</th>\n",
       "      <td>0.795144</td>\n",
       "      <td>0.841118</td>\n",
       "      <td>1.000000</td>\n",
       "      <td>0.279210</td>\n",
       "      <td>0.867032</td>\n",
       "      <td>0.735433</td>\n",
       "      <td>0.559150</td>\n",
       "      <td>0.182942</td>\n",
       "      <td>0.181129</td>\n",
       "      <td>0.640732</td>\n",
       "      <td>-0.220012</td>\n",
       "      <td>-0.642704</td>\n",
       "      <td>-0.677218</td>\n",
       "      <td>0.759325</td>\n",
       "    </tr>\n",
       "    <tr>\n",
       "      <th>CarHeight</th>\n",
       "      <td>0.589435</td>\n",
       "      <td>0.491029</td>\n",
       "      <td>0.279210</td>\n",
       "      <td>1.000000</td>\n",
       "      <td>0.295572</td>\n",
       "      <td>0.067149</td>\n",
       "      <td>0.171071</td>\n",
       "      <td>-0.055307</td>\n",
       "      <td>0.261214</td>\n",
       "      <td>-0.108802</td>\n",
       "      <td>-0.320411</td>\n",
       "      <td>-0.048640</td>\n",
       "      <td>-0.107358</td>\n",
       "      <td>0.119336</td>\n",
       "    </tr>\n",
       "    <tr>\n",
       "      <th>CurbWeight</th>\n",
       "      <td>0.776386</td>\n",
       "      <td>0.877728</td>\n",
       "      <td>0.867032</td>\n",
       "      <td>0.295572</td>\n",
       "      <td>1.000000</td>\n",
       "      <td>0.850594</td>\n",
       "      <td>0.648480</td>\n",
       "      <td>0.168790</td>\n",
       "      <td>0.151362</td>\n",
       "      <td>0.750739</td>\n",
       "      <td>-0.266243</td>\n",
       "      <td>-0.757414</td>\n",
       "      <td>-0.797465</td>\n",
       "      <td>0.835305</td>\n",
       "    </tr>\n",
       "    <tr>\n",
       "      <th>EngineSize</th>\n",
       "      <td>0.569329</td>\n",
       "      <td>0.683360</td>\n",
       "      <td>0.735433</td>\n",
       "      <td>0.067149</td>\n",
       "      <td>0.850594</td>\n",
       "      <td>1.000000</td>\n",
       "      <td>0.583774</td>\n",
       "      <td>0.203129</td>\n",
       "      <td>0.028971</td>\n",
       "      <td>0.809769</td>\n",
       "      <td>-0.244660</td>\n",
       "      <td>-0.653658</td>\n",
       "      <td>-0.677470</td>\n",
       "      <td>0.874145</td>\n",
       "    </tr>\n",
       "    <tr>\n",
       "      <th>BoreRatio</th>\n",
       "      <td>0.488750</td>\n",
       "      <td>0.606454</td>\n",
       "      <td>0.559150</td>\n",
       "      <td>0.171071</td>\n",
       "      <td>0.648480</td>\n",
       "      <td>0.583774</td>\n",
       "      <td>1.000000</td>\n",
       "      <td>-0.055909</td>\n",
       "      <td>0.005197</td>\n",
       "      <td>0.573677</td>\n",
       "      <td>-0.254976</td>\n",
       "      <td>-0.584532</td>\n",
       "      <td>-0.587012</td>\n",
       "      <td>0.553173</td>\n",
       "    </tr>\n",
       "    <tr>\n",
       "      <th>Stroke</th>\n",
       "      <td>0.160959</td>\n",
       "      <td>0.129533</td>\n",
       "      <td>0.182942</td>\n",
       "      <td>-0.055307</td>\n",
       "      <td>0.168790</td>\n",
       "      <td>0.203129</td>\n",
       "      <td>-0.055909</td>\n",
       "      <td>1.000000</td>\n",
       "      <td>0.186110</td>\n",
       "      <td>0.080940</td>\n",
       "      <td>-0.067964</td>\n",
       "      <td>-0.042145</td>\n",
       "      <td>-0.043931</td>\n",
       "      <td>0.079443</td>\n",
       "    </tr>\n",
       "    <tr>\n",
       "      <th>CompressionRatio</th>\n",
       "      <td>0.249786</td>\n",
       "      <td>0.158414</td>\n",
       "      <td>0.181129</td>\n",
       "      <td>0.261214</td>\n",
       "      <td>0.151362</td>\n",
       "      <td>0.028971</td>\n",
       "      <td>0.005197</td>\n",
       "      <td>0.186110</td>\n",
       "      <td>1.000000</td>\n",
       "      <td>-0.204326</td>\n",
       "      <td>-0.435741</td>\n",
       "      <td>0.324701</td>\n",
       "      <td>0.265201</td>\n",
       "      <td>0.067984</td>\n",
       "    </tr>\n",
       "    <tr>\n",
       "      <th>HorsePower</th>\n",
       "      <td>0.353294</td>\n",
       "      <td>0.552623</td>\n",
       "      <td>0.640732</td>\n",
       "      <td>-0.108802</td>\n",
       "      <td>0.750739</td>\n",
       "      <td>0.809769</td>\n",
       "      <td>0.573677</td>\n",
       "      <td>0.080940</td>\n",
       "      <td>-0.204326</td>\n",
       "      <td>1.000000</td>\n",
       "      <td>0.131073</td>\n",
       "      <td>-0.801456</td>\n",
       "      <td>-0.770544</td>\n",
       "      <td>0.808139</td>\n",
       "    </tr>\n",
       "    <tr>\n",
       "      <th>PeakRPM</th>\n",
       "      <td>-0.360469</td>\n",
       "      <td>-0.287242</td>\n",
       "      <td>-0.220012</td>\n",
       "      <td>-0.320411</td>\n",
       "      <td>-0.266243</td>\n",
       "      <td>-0.244660</td>\n",
       "      <td>-0.254976</td>\n",
       "      <td>-0.067964</td>\n",
       "      <td>-0.435741</td>\n",
       "      <td>0.131073</td>\n",
       "      <td>1.000000</td>\n",
       "      <td>-0.113544</td>\n",
       "      <td>-0.054275</td>\n",
       "      <td>-0.085267</td>\n",
       "    </tr>\n",
       "    <tr>\n",
       "      <th>CityMPG</th>\n",
       "      <td>-0.470414</td>\n",
       "      <td>-0.670909</td>\n",
       "      <td>-0.642704</td>\n",
       "      <td>-0.048640</td>\n",
       "      <td>-0.757414</td>\n",
       "      <td>-0.653658</td>\n",
       "      <td>-0.584532</td>\n",
       "      <td>-0.042145</td>\n",
       "      <td>0.324701</td>\n",
       "      <td>-0.801456</td>\n",
       "      <td>-0.113544</td>\n",
       "      <td>1.000000</td>\n",
       "      <td>0.971337</td>\n",
       "      <td>-0.685751</td>\n",
       "    </tr>\n",
       "    <tr>\n",
       "      <th>HighwayMPG</th>\n",
       "      <td>-0.544082</td>\n",
       "      <td>-0.704662</td>\n",
       "      <td>-0.677218</td>\n",
       "      <td>-0.107358</td>\n",
       "      <td>-0.797465</td>\n",
       "      <td>-0.677470</td>\n",
       "      <td>-0.587012</td>\n",
       "      <td>-0.043931</td>\n",
       "      <td>0.265201</td>\n",
       "      <td>-0.770544</td>\n",
       "      <td>-0.054275</td>\n",
       "      <td>0.971337</td>\n",
       "      <td>1.000000</td>\n",
       "      <td>-0.697599</td>\n",
       "    </tr>\n",
       "    <tr>\n",
       "      <th>Price</th>\n",
       "      <td>0.577816</td>\n",
       "      <td>0.682920</td>\n",
       "      <td>0.759325</td>\n",
       "      <td>0.119336</td>\n",
       "      <td>0.835305</td>\n",
       "      <td>0.874145</td>\n",
       "      <td>0.553173</td>\n",
       "      <td>0.079443</td>\n",
       "      <td>0.067984</td>\n",
       "      <td>0.808139</td>\n",
       "      <td>-0.085267</td>\n",
       "      <td>-0.685751</td>\n",
       "      <td>-0.697599</td>\n",
       "      <td>1.000000</td>\n",
       "    </tr>\n",
       "  </tbody>\n",
       "</table>\n",
       "</div>"
      ],
      "text/plain": [
       "                  WheelBase  CarLength  CarWidth  CarHeight  CurbWeight  \\\n",
       "WheelBase          1.000000   0.874587  0.795144   0.589435    0.776386   \n",
       "CarLength          0.874587   1.000000  0.841118   0.491029    0.877728   \n",
       "CarWidth           0.795144   0.841118  1.000000   0.279210    0.867032   \n",
       "CarHeight          0.589435   0.491029  0.279210   1.000000    0.295572   \n",
       "CurbWeight         0.776386   0.877728  0.867032   0.295572    1.000000   \n",
       "EngineSize         0.569329   0.683360  0.735433   0.067149    0.850594   \n",
       "BoreRatio          0.488750   0.606454  0.559150   0.171071    0.648480   \n",
       "Stroke             0.160959   0.129533  0.182942  -0.055307    0.168790   \n",
       "CompressionRatio   0.249786   0.158414  0.181129   0.261214    0.151362   \n",
       "HorsePower         0.353294   0.552623  0.640732  -0.108802    0.750739   \n",
       "PeakRPM           -0.360469  -0.287242 -0.220012  -0.320411   -0.266243   \n",
       "CityMPG           -0.470414  -0.670909 -0.642704  -0.048640   -0.757414   \n",
       "HighwayMPG        -0.544082  -0.704662 -0.677218  -0.107358   -0.797465   \n",
       "Price              0.577816   0.682920  0.759325   0.119336    0.835305   \n",
       "\n",
       "                  EngineSize  BoreRatio    Stroke  CompressionRatio  \\\n",
       "WheelBase           0.569329   0.488750  0.160959          0.249786   \n",
       "CarLength           0.683360   0.606454  0.129533          0.158414   \n",
       "CarWidth            0.735433   0.559150  0.182942          0.181129   \n",
       "CarHeight           0.067149   0.171071 -0.055307          0.261214   \n",
       "CurbWeight          0.850594   0.648480  0.168790          0.151362   \n",
       "EngineSize          1.000000   0.583774  0.203129          0.028971   \n",
       "BoreRatio           0.583774   1.000000 -0.055909          0.005197   \n",
       "Stroke              0.203129  -0.055909  1.000000          0.186110   \n",
       "CompressionRatio    0.028971   0.005197  0.186110          1.000000   \n",
       "HorsePower          0.809769   0.573677  0.080940         -0.204326   \n",
       "PeakRPM            -0.244660  -0.254976 -0.067964         -0.435741   \n",
       "CityMPG            -0.653658  -0.584532 -0.042145          0.324701   \n",
       "HighwayMPG         -0.677470  -0.587012 -0.043931          0.265201   \n",
       "Price               0.874145   0.553173  0.079443          0.067984   \n",
       "\n",
       "                  HorsePower   PeakRPM   CityMPG  HighwayMPG     Price  \n",
       "WheelBase           0.353294 -0.360469 -0.470414   -0.544082  0.577816  \n",
       "CarLength           0.552623 -0.287242 -0.670909   -0.704662  0.682920  \n",
       "CarWidth            0.640732 -0.220012 -0.642704   -0.677218  0.759325  \n",
       "CarHeight          -0.108802 -0.320411 -0.048640   -0.107358  0.119336  \n",
       "CurbWeight          0.750739 -0.266243 -0.757414   -0.797465  0.835305  \n",
       "EngineSize          0.809769 -0.244660 -0.653658   -0.677470  0.874145  \n",
       "BoreRatio           0.573677 -0.254976 -0.584532   -0.587012  0.553173  \n",
       "Stroke              0.080940 -0.067964 -0.042145   -0.043931  0.079443  \n",
       "CompressionRatio   -0.204326 -0.435741  0.324701    0.265201  0.067984  \n",
       "HorsePower          1.000000  0.131073 -0.801456   -0.770544  0.808139  \n",
       "PeakRPM             0.131073  1.000000 -0.113544   -0.054275 -0.085267  \n",
       "CityMPG            -0.801456 -0.113544  1.000000    0.971337 -0.685751  \n",
       "HighwayMPG         -0.770544 -0.054275  0.971337    1.000000 -0.697599  \n",
       "Price               0.808139 -0.085267 -0.685751   -0.697599  1.000000  "
      ]
     },
     "execution_count": 16,
     "metadata": {},
     "output_type": "execute_result"
    }
   ],
   "source": [
    "data[num_columns].corr()"
   ]
  },
  {
   "cell_type": "markdown",
   "id": "5916c278-f992-498d-a213-acacdfd3c1a7",
   "metadata": {},
   "source": [
    "It appears that the features CarHeight, Stroke, CompressionRatio, and PeakRPM show minimal correlation with Price.\n",
    "\n",
    "Excluding these, the variables that emerge as significant are:\n",
    "* Positively Correlated with Price: WheelBase, CarLength, CarWidth, CurbWeight, EngineSize, BoreRatio, HorsePower\n",
    "* Negatively Correlated with Price: CityMPG, HighwayMPG"
   ]
  },
  {
   "cell_type": "markdown",
   "id": "80467567-c4e0-4d75-a5c3-be7ee5e5cb70",
   "metadata": {},
   "source": [
    "##### 2. Checking for multicollinearity between the correlated independent variables and Price"
   ]
  },
  {
   "cell_type": "code",
   "execution_count": 17,
   "id": "bbe513c3-6019-471b-90ef-2f5bd1cb24f2",
   "metadata": {},
   "outputs": [
    {
     "data": {
      "image/png": "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\n",
      "text/plain": [
       "<Figure size 432x288 with 2 Axes>"
      ]
     },
     "metadata": {
      "needs_background": "light"
     },
     "output_type": "display_data"
    }
   ],
   "source": [
    "sns.heatmap(data[num_columns].corr(), cmap= 'RdBu', center=0)\n",
    "plt.show()"
   ]
  },
  {
   "cell_type": "code",
   "execution_count": 18,
   "id": "47d7c6f6-7b06-46ce-9a6e-e4f0012c689a",
   "metadata": {},
   "outputs": [
    {
     "data": {
      "text/plain": [
       "<Axes: >"
      ]
     },
     "execution_count": 18,
     "metadata": {},
     "output_type": "execute_result"
    },
    {
     "data": {
      "image/png": "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\n",
      "text/plain": [
       "<Figure size 432x288 with 2 Axes>"
      ]
     },
     "metadata": {
      "needs_background": "light"
     },
     "output_type": "display_data"
    }
   ],
   "source": [
    "# Correlation between variables specific to the car dimensions\n",
    "sns.heatmap(data[['WheelBase', 'CarLength', 'CarWidth','CurbWeight']].corr(), cmap= 'RdBu', center=0, annot=True)"
   ]
  },
  {
   "cell_type": "markdown",
   "id": "3d16ccfd-dab0-45ad-a494-114b6ed66526",
   "metadata": {},
   "source": [
    "There is significant correlation between all three of these variables."
   ]
  },
  {
   "cell_type": "code",
   "execution_count": 19,
   "id": "256ab736-00a2-4667-870e-d782ecc73486",
   "metadata": {},
   "outputs": [
    {
     "data": {
      "text/plain": [
       "<Axes: >"
      ]
     },
     "execution_count": 19,
     "metadata": {},
     "output_type": "execute_result"
    },
    {
     "data": {
      "image/png": "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\n",
      "text/plain": [
       "<Figure size 432x288 with 2 Axes>"
      ]
     },
     "metadata": {
      "needs_background": "light"
     },
     "output_type": "display_data"
    }
   ],
   "source": [
    "# Correlation between variables specific to the car performance\n",
    "sns.heatmap(data[['EngineSize','BoreRatio','HorsePower']].corr(), cmap= 'RdBu', center=0, annot=True)"
   ]
  },
  {
   "cell_type": "markdown",
   "id": "8aa48b3e-03af-4819-ab1a-dd6d1c7a94b1",
   "metadata": {},
   "source": [
    "We will keep only one between HorsePower and EndineSize, BoreRatio would not introduce multicolinearity"
   ]
  },
  {
   "cell_type": "code",
   "execution_count": 20,
   "id": "5fab363d-582b-49f1-a7de-25d2d540f410",
   "metadata": {},
   "outputs": [
    {
     "data": {
      "text/plain": [
       "<Axes: >"
      ]
     },
     "execution_count": 20,
     "metadata": {},
     "output_type": "execute_result"
    },
    {
     "data": {
      "image/png": "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\n",
      "text/plain": [
       "<Figure size 432x288 with 2 Axes>"
      ]
     },
     "metadata": {
      "needs_background": "light"
     },
     "output_type": "display_data"
    }
   ],
   "source": [
    "# Correlation between City and Highway MPG\n",
    "sns.heatmap(data[['CityMPG','HighwayMPG']].corr(), cmap= 'RdBu', center=0, annot=True)"
   ]
  },
  {
   "cell_type": "markdown",
   "id": "33afd7ba-3f84-45d2-8eac-c15c6ff6c607",
   "metadata": {},
   "source": [
    "Expectedly, these are highly correlated as high MPG in city probly means high MPG on a highway and vice versa."
   ]
  },
  {
   "cell_type": "markdown",
   "id": "74694175-878d-4dfe-926f-5845f8e02f30",
   "metadata": {},
   "source": [
    "**Conclusion:**\n",
    "To avoid multicollinearity, we will have to select which variables to provide to the model (e.g. CurbWeight, EngineSize, BoreRatio and HighwayMPG).\n",
    "<br> With that we asure first two assumptions of Linear Regression"
   ]
  },
  {
   "cell_type": "markdown",
   "id": "411d44ce-c839-4f5c-b82f-4aa535122702",
   "metadata": {},
   "source": [
    "#### Categirical Variables"
   ]
  },
  {
   "cell_type": "code",
   "execution_count": 21,
   "id": "c12bb3b9-cb87-49c9-ac9c-dc541f0e4033",
   "metadata": {},
   "outputs": [
    {
     "data": {
      "image/png": "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\n",
      "text/plain": [
       "<Figure size 432x288 with 1 Axes>"
      ]
     },
     "metadata": {
      "needs_background": "light"
     },
     "output_type": "display_data"
    }
   ],
   "source": [
    "order = data['Company'].value_counts(ascending=False).index\n",
    "sns.countplot(x='Company', data=data, order=order)\n",
    "plt.xticks(rotation=60)\n",
    "plt.show()\n",
    "\n",
    "# plt.figure(figsize = [15, 8])\n",
    "# data['Company'].value_counts().plot(kind='bar', stacked=True)\n",
    "# plt.xlabel(\"Car Company\", fontweight = 'bold', fontsize=12)\n",
    "# plt.xticks(fontsize=12, rotation=45)\n",
    "# plt.ylabel(\"Count of Cars\", fontweight = 'bold', fontsize=12)\n",
    "# plt.plot()"
   ]
  },
  {
   "cell_type": "code",
   "execution_count": 22,
   "id": "cc7f783d-3b0f-4062-894d-f1487a1d8fe1",
   "metadata": {},
   "outputs": [
    {
     "data": {
      "image/png": "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\n",
      "text/plain": [
       "<Figure size 1440x1080 with 9 Axes>"
      ]
     },
     "metadata": {
      "needs_background": "light"
     },
     "output_type": "display_data"
    }
   ],
   "source": [
    "# Visualizing distributions of categorical variables\n",
    "plt.figure(figsize=(20, 15))\n",
    "plt.subplot(3,3,1)\n",
    "sns.boxplot(x = 'FuelType', y = 'Price', data = data)\n",
    "plt.subplot(3,3,2)\n",
    "sns.boxplot(x = 'Aspiration', y = 'Price', data = data)\n",
    "plt.subplot(3,3,3)\n",
    "sns.boxplot(x = 'DoorNumber', y = 'Price', data = data)\n",
    "plt.subplot(3,3,4)\n",
    "sns.boxplot(x = 'CarBody', y = 'Price', data = data)\n",
    "plt.subplot(3,3,5)\n",
    "sns.boxplot(x = 'DriveWheel', y = 'Price', data = data)\n",
    "plt.subplot(3,3,6)\n",
    "sns.boxplot(x = 'EngineLocation', y = 'Price', data = data)\n",
    "plt.subplot(3,3,7)\n",
    "sns.boxplot(x = 'EngineType', y = 'Price', data = data)\n",
    "plt.subplot(3,3,8)\n",
    "sns.boxplot(x = 'CylinderNumber', y = 'Price', data = data)\n",
    "plt.subplot(3,3,9)\n",
    "sns.boxplot(x = 'FuelSystem', y = 'Price', data = data)\n",
    "plt.show()"
   ]
  },
  {
   "cell_type": "code",
   "execution_count": 23,
   "id": "b40d1d27-1262-481c-b665-c49bea0b944a",
   "metadata": {},
   "outputs": [
    {
     "data": {
      "image/png": "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\n",
      "text/plain": [
       "<Figure size 1440x576 with 2 Axes>"
      ]
     },
     "metadata": {
      "needs_background": "light"
     },
     "output_type": "display_data"
    }
   ],
   "source": [
    "plt.figure(figsize = (20,8))\n",
    "plt.subplot(1,2,1)\n",
    "sns.boxplot(x = 'Symboling', y = 'Price', data = data)\n",
    "plt.subplot(1,2,2)\n",
    "sns.boxplot(x = 'Company', y = 'Price', data = data)\n",
    "plt.xticks(rotation=45)\n",
    "plt.show()"
   ]
  },
  {
   "cell_type": "markdown",
   "id": "75bc3abd-0f47-47ea-8b95-0e0cfb31591f",
   "metadata": {
    "tags": []
   },
   "source": [
    "## Data Preparation"
   ]
  },
  {
   "cell_type": "code",
   "execution_count": 24,
   "id": "37648a80-48ef-4416-92bf-0c8915c07f87",
   "metadata": {},
   "outputs": [
    {
     "name": "stdout",
     "output_type": "stream",
     "text": [
      "       Column Name                                      Unique Values\n",
      "0        Symboling                               [3, 1, 2, 0, -1, -2]\n",
      "1          Company  [alfa-romeo, audi, bmw, chevrolet, dodge, hond...\n",
      "2         FuelType                                      [gas, diesel]\n",
      "3       Aspiration                                       [std, turbo]\n",
      "4       DoorNumber                                        [two, four]\n",
      "5          CarBody    [convertible, hatchback, sedan, wagon, hardtop]\n",
      "6       DriveWheel                                    [rwd, fwd, 4wd]\n",
      "7   EngineLocation                                      [front, rear]\n",
      "8       EngineType           [dohc, ohcv, ohc, l, rotor, ohcf, dohcv]\n",
      "9   CylinderNumber       [four, six, five, three, twelve, two, eight]\n",
      "10      FuelSystem     [mpfi, 2bbl, mfi, 1bbl, spfi, 4bbl, idi, spdi]\n"
     ]
    }
   ],
   "source": [
    "def display_categorical_columns(df):\n",
    "    categorical_data = []\n",
    "    \n",
    "    for column in df.columns:\n",
    "        if df[column].dtype == 'object':\n",
    "            # Append the column name and its unique values to the list\n",
    "            categorical_data.append([column, df[column].unique()])\n",
    "    \n",
    "    # Convert the results list to a DataFrame for nice display\n",
    "    result_df = pd.DataFrame(categorical_data, columns=['Column Name', 'Unique Values'])\n",
    "    \n",
    "    # Return or print the DataFrame\n",
    "    print(result_df)\n",
    "    \n",
    "display_categorical_columns(data)"
   ]
  },
  {
   "cell_type": "markdown",
   "id": "1ceabf3d-0166-4c64-b710-b18a7102713d",
   "metadata": {},
   "source": [
    "#### Dummy Variables\n",
    "To fit in a regression line, variables must be converted in numeric values, 0 and 1, by using dummy variables."
   ]
  },
  {
   "cell_type": "code",
   "execution_count": 25,
   "id": "d0f506e7-9926-4131-a1fd-42158ce7eab3",
   "metadata": {},
   "outputs": [
    {
     "name": "stdout",
     "output_type": "stream",
     "text": [
      "(205, 55)\n"
     ]
    }
   ],
   "source": [
    "dummies = pd.get_dummies(data[cat_columns], drop_first = True)\n",
    "print(dummies.shape)"
   ]
  },
  {
   "cell_type": "code",
   "execution_count": 26,
   "id": "654671dc-dc50-4d19-ad6b-28e0b7e1609a",
   "metadata": {},
   "outputs": [
    {
     "name": "stdout",
     "output_type": "stream",
     "text": [
      "(205, 80)\n"
     ]
    }
   ],
   "source": [
    "# Add the dummies to the original dataframe\n",
    "data = pd.concat([data, dummies], axis = 1)\n",
    "print(data.shape)"
   ]
  },
  {
   "cell_type": "code",
   "execution_count": 27,
   "id": "8511a3e9-5902-457e-82c6-3738931bdde6",
   "metadata": {},
   "outputs": [
    {
     "name": "stdout",
     "output_type": "stream",
     "text": [
      "(205, 69)\n"
     ]
    }
   ],
   "source": [
    "# Drop the original categirical variables to avoid redundant data\n",
    "data.drop(cat_columns, axis = 1, inplace = True)\n",
    "print(data.shape)"
   ]
  },
  {
   "cell_type": "markdown",
   "id": "7c89d4d7-2c21-477f-8501-f6a3b6b8b520",
   "metadata": {
    "tags": []
   },
   "source": [
    "## Scaling Data"
   ]
  },
  {
   "cell_type": "code",
   "execution_count": 28,
   "id": "485176dc-ead7-4aab-bae7-251984736249",
   "metadata": {},
   "outputs": [],
   "source": [
    "# import libraries for linear regression and model evaluation\n",
    "from sklearn.model_selection import train_test_split\n",
    "from sklearn.preprocessing import StandardScaler\n",
    "from sklearn.linear_model import LinearRegression\n",
    "from sklearn.metrics import r2_score, mean_squared_error\n",
    "# from sklearn.feature_selection import RFE"
   ]
  },
  {
   "cell_type": "code",
   "execution_count": 29,
   "id": "1099507a-a2d6-476e-8ce7-be8e7e8c48e3",
   "metadata": {},
   "outputs": [],
   "source": [
    "# Splitting the dataset\n",
    "X = data.copy()\n",
    "# numerical columns to provide to the model \n",
    "cols_to_scale = ['CarWidth', 'EngineSize', 'BoreRatio', 'HighwayMPG']\n",
    "\n",
    "# numerical columns that would couse multicolinearity\n",
    "cols_to_drop = [column for column in num_columns if column not in cols_to_scale] # this include Price as well\n",
    "X.drop(cols_to_drop, axis = 1, inplace = True)\n",
    "\n",
    "y = data['Price']\n",
    "\n",
    "X_train, X_test, y_train, y_test = train_test_split(X, y, test_size = 0.2, random_state = 22)\n",
    "\n",
    "# Categorical data\n",
    "X_train_cat = X_train.drop(cols_to_scale, axis = 1)\n",
    "X_test_cat = X_test.drop(cols_to_scale, axis = 1)\n",
    "\n",
    "# Scale numerical features\n",
    "scaler = StandardScaler()\n",
    "\n",
    "X_train_scaled = scaler.fit_transform(X_train[cols_to_scale])\n",
    "X_test_scaled = scaler.transform(X_test[cols_to_scale])\n",
    "\n",
    "# Convert scaled arrays back to DataFrame for concatenation\n",
    "X_train_scaled = pd.DataFrame(X_train_scaled, columns = cols_to_scale, index = X_train.index)\n",
    "X_test_scaled = pd.DataFrame(X_test_scaled, columns = cols_to_scale, index = X_test.index)\n",
    "\n",
    "# Concatenate numerical and categorical features\n",
    "X_train = pd.concat([X_train_scaled, X_train_cat], axis = 1)\n",
    "X_test = pd.concat([X_test_scaled, X_test_cat], axis = 1)"
   ]
  },
  {
   "cell_type": "markdown",
   "id": "891d0010-4fbd-435c-846a-6463c3199fb3",
   "metadata": {},
   "source": [
    "## Model Construction & Prediction"
   ]
  },
  {
   "cell_type": "code",
   "execution_count": 30,
   "id": "aca60158-303c-4405-91c4-df60019b8cbc",
   "metadata": {},
   "outputs": [],
   "source": [
    "# Model training\n",
    "model = LinearRegression()\n",
    "model.fit(X_train, y_train)\n",
    "\n",
    "# Prediction\n",
    "y_pred = model.predict(X_test)"
   ]
  },
  {
   "cell_type": "code",
   "execution_count": 31,
   "id": "cfb5c021-41c6-4b44-af81-5de6654ec34d",
   "metadata": {},
   "outputs": [
    {
     "data": {
      "text/plain": [
       "<Figure size 720x576 with 0 Axes>"
      ]
     },
     "metadata": {},
     "output_type": "display_data"
    },
    {
     "data": {
      "image/png": "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\n",
      "text/plain": [
       "<Figure size 360x360 with 1 Axes>"
      ]
     },
     "metadata": {
      "needs_background": "light"
     },
     "output_type": "display_data"
    }
   ],
   "source": [
    "# Check for the normality of residuals\n",
    "fig = plt.figure(figsize = (10, 8))\n",
    "sns.displot((y_test - y_pred), bins = 20, kde=True)\n",
    "plt.xlabel('Errors')\n",
    "plt.show()"
   ]
  },
  {
   "cell_type": "code",
   "execution_count": 35,
   "id": "5ac0b6fb-a737-45d6-ab29-31c64a303292",
   "metadata": {},
   "outputs": [
    {
     "data": {
      "image/png": "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\n",
      "text/plain": [
       "<Figure size 720x576 with 1 Axes>"
      ]
     },
     "metadata": {
      "needs_background": "light"
     },
     "output_type": "display_data"
    }
   ],
   "source": [
    "# Check the independence of errors\n",
    "# This means that the residuals (errors)are not correlated\n",
    "plt.figure(figsize=(10, 8))\n",
    "plt.scatter((y_pred - y_test).index, (y_pred - y_test).values)\n",
    "plt.hlines(0,0,200)\n",
    "plt.suptitle('Residuals by order', fontsize=16)\n",
    "plt.xlabel('Order')\n",
    "plt.ylabel('Residuals')\n",
    "plt.grid(True)\n",
    "plt.show()"
   ]
  },
  {
   "cell_type": "markdown",
   "id": "0e806e21-6f98-4004-9f34-b2ba432a8aed",
   "metadata": {
    "tags": []
   },
   "source": [
    "## Model Evaluation"
   ]
  },
  {
   "cell_type": "code",
   "execution_count": 33,
   "id": "3d35005d-4281-4c44-acf6-790bcd7a4516",
   "metadata": {},
   "outputs": [
    {
     "name": "stdout",
     "output_type": "stream",
     "text": [
      "R-squared: 0.8901891898416175\n",
      "Mean Squared Error: 2253.5191640221815\n"
     ]
    }
   ],
   "source": [
    "# R2 score measures the proportion of variance in the dependent variable that is predictable from the independent variables [0,1]\n",
    "# MSE is average squared difference between predicted and actual values\n",
    "r2_square = r2_score(y_test,y_pred)\n",
    "mse = mean_squared_error(y_test, y_pred, squared = False) # RMSE is in the same units as the Price therefore easier to interpret\n",
    "print(f\"R-squared: {r2_square}\")\n",
    "print(f'Mean Squared Error: {mse}')"
   ]
  },
  {
   "cell_type": "code",
   "execution_count": 34,
   "id": "ba8bdff5-71b1-4efb-9f4e-cac9a7fcb634",
   "metadata": {
    "tags": []
   },
   "outputs": [
    {
     "data": {
      "image/png": "iVBORw0KGgoAAAANSUhEUgAAAnAAAAHwCAYAAAAmS1LmAAAAOXRFWHRTb2Z0d2FyZQBNYXRwbG90bGliIHZlcnNpb24zLjcuMiwgaHR0cHM6Ly9tYXRwbG90bGliLm9yZy8pXeV/AAAACXBIWXMAAAsTAAALEwEAmpwYAABR7ElEQVR4nO3de5xVZdn/8c/FiDIKMqBGMKhoIuUhQUkxygZPgHkgstLHA6VJpv6yLFLyKc1SSVKLnjQ1SS0VzAOSYmjgmKaichJPCIqKI4gJIwyOHIbr98e6N7NnmBn2MLP22ofv+/Xar73WvQ77umePzsV9WLe5OyIiIiKSPzokHYCIiIiItI4SOBEREZE8owROREREJM8ogRMRERHJM0rgRERERPKMEjgRERGRPKMETkTahZldbmZ/a6d7nWZmj7bHvQpR+s/azPYwsxozK8nC575lZke3070eMbNR7XEvkWKkBE6kQJhZpZmtMrMdMjz/22b2VNxxhc+qMLNNIdFYY2YLzew7zZ3v7ne6+7HZiC0u4fv4JNT5v2Z2v5n1bO/Pcfd33L2zu9dtJZ4KM3u3vT8/7f63mdn6UN+VZvaYmX22ufPdfbi73x5XPCKFTgmcSAEwsz7AlwEHTkw2mma95+6dgZ2Bi4FbzGy/xieZ2XZZjyw+F4Q67wuUAdc3PqHA6ntNqG9vYAVwW+MTLKK/PSJtpP+IRArDmcCzRH8wG3RLmdnuofXnAzP70Mz+z8w+B/wJODy0mFSHcyvN7Ltp1zZopTOz35vZUjNbbWazzezLrQ3UI1OAVcB+4TP+Y2bXm9mHwOVNfO7+oUVnpZm9b2Y/C+UdzOwSM3sj1O0eM+sejnUys7+F8moze97MejSOx8wuNrN7G5X93swmpP0M3gwth0vM7LRtqPNK4D7ggHDPt8LnvgisNbPtzGyQmT0dYp1vZhVp8exlZk+EGB4Ddk071sfMPJUImll3M/uLmb0XWmSnmNlOwCNAr/B915hZr5Z+fuFeZ5jZ2+HYpa2o78fAXWn1rTSzK83sP8DHwN5N/K6dY2avhjq+YmYHh/JeZnZf+P1dYmY/SLvmUDN7Ifw+vm9m12X+rYjkNyVwIoXhTODO8BqaSlQsGhf1EPA20AcoBya5+6vAucAzofutLMPPeR7oD3Qn+gP9dzPr1JpAQ9LwNaIWqQWh+DDgTaAHcGWj87sA/wL+CfQC9gFmhMP/DxgBfCUcWwX8MRwbBXQFdgd2IapvbRMhTQKOC5+T+pl9E7grJD4TgOHu3gX4IjCvNfUN99wV+DowN634VOCrRD+HHsDDwK+JfrY/Ae4zs93CuXcBs4kSt1/RKElv5K/AjsD+wKeA6919LTCc0AoaXu/Rws/PotbRG4EzwrFdiFrWMqlvZ+C0RvU9AxgNdCH6fUw//xvA5US/xzsTtSJ/GFrq/gHMJ/rdPQr4oZkNDZf+Hvi9u+8MfAa4J5P4RAqBEjiRPGdmXwL2BO5x99nAG8D/hMOHEv3xHePua939E3ff5nFv7v43d//Q3Te6+7XADkC/DC/vFVr6/gtcBpzh7gvDsffc/Q/hvo2TrOOB5e5+bYh/jbvPCsfOBS5193fdfR1REnByaI3aQJR07OPude4+291XN1Gnt4E5wNdC0ZHAx+7+bNjfBBxgZqXuvszdX86wvgATQp3nA8uAi9KPufvSUN/TgWnuPs3dN7n7Y8ALRInlHsAXgJ+7+zp3/zdRUrMFi8bYDQfOdfdV7r7B3Z9oIb6Wfn4nAw+5+7/DsZ+Hn0VLfhLquxjoDHw77dht7v5y+I43NLruu0Tdr8+HFtrF4Xv5ArCbu1/h7uvd/U3gFuCUcN0GYB8z29Xda9K+M5GCpwROJP+NAh519/+G/buob6HZHXjb3Te2xweZ2U9CN9dH4Q91V9K687biPXcvc/fu7t7f3SelHVvawnW7EyWlTdkTeCB0O1YDrwJ1RC1afwWmA5NCd+I1ZtaxmfvcRdQiBlHyexdAaLn6FlGis8zMHrYWBuY34QehzuXufpq7f5B2LL3OewLfSNUj1OVLQE9Cy1iIJaVBC1aa3YGV7r4qw/ha+vn1So8xfP6HW7nfb0N9P+3uJ7p7+ve2Ld/xnoTEPy3Gn4X4AM4mGl/4WugiP34r8YkUjEIaPCtSdMyslKi7r8TMlofiHYAyMzuI6I/mHma2XRNJnDdxy7VE3W8pn077rC8DPyXqxnrZ3TeZ2SrA2qEqTcWSspT6Fpemjp3l7v9p5vgvgV9aNMljGrAQuLWJ8/4OXGtmvYla4g7fHJj7dGB6+Fn/mqgFqNVj/5qQXuelwF/d/ZzGJ5nZnkA3M9spLYnbg6Z/ZkuB7mZW5u7VLXxe+vlN/vzMbBnwubT9HYlaNLfV1r7jzzRTvsTd+zZ5Q/dFwKmhq3UkcK+Z7dIo2RUpSGqBE8lvI4haTPYjGpvWn+iP7pNE44meI+q6G2dmO1k0sH9wuPZ9oLeZbZ92v3nASDPb0cz2IWrhSOkCbAQ+ALYzs18QjVeK20NATzP7oZntYGZdzOywcOxPwJUhycHMdjOzk8L2EDM7MIxpW03U3dZkF2BoGasE/kKUMLwa7tHDzE4KY+HWATXN3aON/gacYGZDzawkfE8VZtY7dCW+QJSIbh+6zE9oph7LiCYr3GBm3cyso5kdEQ6/D+xiZl3TLmn25wfcCxxvZl8KvyNXEN/fjD8Tdb8eYpF9QkzPAWssmvBRGn42B5jZF0K8p5vZbu6+CagO94rj+xHJOUrgRPLbKOAv4Vlgy1Mv4P+IBpEb0R/7fYB3gHeJugQBZgIvA8vNLNX9ej2wnuiP/e1EkyJSphNNJHidqAvvE1ruFmsX7r4GOIaoHsuBRcCQcPj3wFTgUTNbQzQTN5XcfZooCVlN1DX4BFG3anPuAo4O7ykdiMatvQesJBrs/32IWiTNrKaN1QPA3ZcCJxF1D35A9HMdQ/3/o/+HqF4ricYP3tHC7c4gSlZfI3qUxw/DZ7wG3A28Gboje9HCzy+M9Tuf6OexjGiCQyzPkXP3vxNNXrkLWANMAbqHZ9sdT/QPkyVE4yf/TNR1DzAMeDl8D78HTmliDKVIQTL3llq1RURERCTXqAVOREREJM8ogRMRERHJM0rgRERERPKMEjgRERGRPKMETkRERCTPFN2DfHfddVfv06dPbPdfu3YtO+20U2z3z2Wqe/HVvVjrDaq76l58VPdk6j579uz/uvtujcuLLoHr06cPL7zwQmz3r6yspKKiIrb75zLVvSLpMLKuWOsNqrvqXnxU94pEPtvMmlw6T12oIiIiInlGCZyIiIhInlECJyIiIpJnlMCJiIiI5BklcCIiIiJ5RgmciIiISJ5RAiciIiKSZ5TAiYiIiOQZJXAiIiIieUYJnIiIiEieUQInIiIikmeUwImIiIjkGSVwIiIiInlGCZyIiIhInlECJyIiIpJnlMCJiIiI5BklcCIiIiKt5Z7oxyuBExEREcnUhx+CGXToAHV1iYURewJnZiVmNtfMHgr7t5nZEjObF179Q7mZ2QQzW2xmL5rZwWn3GGVmi8JrVFr5IWa2IFwzwcws7vqIiIhIkZo/H3bdNdrebTcoKUkslGy0wF0IvNqobIy79w+veaFsONA3vEYDNwKYWXfgMuAw4FDgMjPrFq65ETgn7bphMdZDREREilnfvtH7hRfCihWJhhJrAmdmvYGvAn/O4PSTgDs88ixQZmY9gaHAY+6+0t1XAY8Bw8Kxnd39WXd34A5gRCwVERERkeJUW8sRRx8NL70EO+4ImzbB736XdFSxt8D9DvgpsKlR+ZWhm/R6M9shlJUDS9POeTeUtVT+bhPlIiIiIm03ezbsuCMd6urgtNOishwZrbVdXDc2s+OBFe4+28wq0g6NBZYD2wM3AxcDV8QVR4hlNFG3LD169KCysjK2z6qpqYn1/rlMda9MOoysK9Z6g+quuhefYqt7n4kT6fPXvwKw/NBDee03v4Ecqn9sCRwwGDjRzI4DOgE7m9nf3P30cHydmf0F+EnYrwJ2T7u+dyirAioalVeG8t5NnL8Fd7+ZKFlk4MCBXlFR0dRp7aKyspI475/LVPeKpMPIumKtN6juqnvxKaq6f+tbcM890fa99/LaLrvkXN1j60J197Hu3tvd+wCnADPd/fQwdo0wY3QE8FK4ZCpwZpiNOgj4yN2XAdOBY82sW5i8cCwwPRxbbWaDwr3OBB6Mqz4iIiJSJC6/PHpftgy+/vVEQ2lOnC1wzbnTzHYDDJgHnBvKpwHHAYuBj4HvALj7SjP7FfB8OO8Kd18Zts8DbgNKgUfCS0RERKR1brkFRo+GNWvgc59L/EG9W5OVBM7dK4m6PXH3I5s5x4Hzmzk2EZjYRPkLwAHtFaeIiIgUGXf4wheiCQsAzz4LRx+dbEwZSKIFTkRERCR5//1v9EDelNdeg379kounFZTAiYiISHFKJW8dOsC6dbBd/qRFWgtVREREiktqDdO//hV+/ONoP4+SN1ALnIiIiBSLjz+GnXaKtjdtgtNPj155SC1wIiIiUvhmzapP3gA2bkwulnagBE5EREQK289+BoMGRdsjR0YzTzt2TDamNlIXqoiIiBSud96Bq6+Oth94AEaMSDSc9qIWOBERESk8y5ZF49z22AOuvRaWLy+Y5A2UwImIiEihufFG6NULDgjP+r/oIujRI9mY2pm6UEVERKQwuMNBB8GCBdH+BRckG0+MlMCJiIhI/luxomEr2+uvQ9++ycUTMyVwIiIikv9+//vovVOnaEH6PHswb2tpDJyIiIjkr3/8I3q/8kqYORNqaws+eQMlcCIiIpKPamrADE48ESZMiMqGDEk2pixSAiciIiL55ZlnoEuX+v2zz04uloQogRMREZH88dOfwhe/GG1/85vRzNP0JbKKROF3EouIiEjh+MtfovepU+GEE5KNJUFqgRMREZHctnBhtJoCRCssrFxZ1MkbKIETERGRXDZhAnz2s/CTn8CqVdEM027dko4qcepCFRERkdzjDvvtB6+9Fu3fdJMStzRK4ERERCS3rF0LnTvX7y9eDJ/5THLx5CAlcCIiIpJbSkuj9y5dom7TkpJk48lBGgMnIiIiueFrX4MpU6BDB6irg9Wrlbw1Qy1wIiIikqw1a2DnnaPtKVOi8W8d1MbUEv10REREJDlPPlmfvEE0/k22SgmciIiIJONvf4Mjjoi2Tz89annbccdkY8oT6kIVERGRZHz1q9H7tGkwfHiyseQZJXAiIiKSPa+8AvvvD0uWQJ8+UaubtJq6UEVERCQ7rrsuSt4Abrwx2VjynFrgREREJF7usM8+8Oab0f6tt8JZZyUbU55TAiciIiLxKi2Fdeui7VTXqbSJulBFREQkHqnxbf/+N+y1V/RwXiVv7UIJnIiIiLS/4cOjh/GuWweHHhp1n+rhvO1GXagiIiLSflavhq5d6/eXL4c990wungKlVFhERETaR2Vlw+SttlbJW0yUwImIiEjb1dXBkCHR9re/HY1/69Qp0ZAKmbpQRUREZNutXx8lb6WlcNNN0SSFY49NOqqCpwROREREts1LL8GBB0bb7jB6dLLxFBF1oYqIiEjrjR9fn7ylFqSXrIk9gTOzEjOba2YPhf29zGyWmS02s8lmtn0o3yHsLw7H+6TdY2woX2hmQ9PKh4WyxWZ2Sdx1ERERKXqbNsEee8BPfxrt33YbPPFEoiEVo2y0wF0IvJq2/xvgenffB1gFnB3KzwZWhfLrw3mY2X7AKcD+wDDghpAUlgB/BIYD+wGnhnNFREQkLjNmwNKl0fbbb8OoUcnGU6RiTeDMrDfwVeDPYd+AI4F7wym3AyPC9klhn3D8qHD+ScAkd1/n7kuAxcCh4bXY3d909/XApHCuiIiItLMur74ajXM75hi4665o4sIeeyQdVtGKuwXud8BPgU1hfxeg2t03hv13gfKwXQ4sBQjHPwrnby5vdE1z5SIiItKejjqKQ847D048Mdo/9VStqpCw2GahmtnxwAp3n21mFXF9ToaxjAZGA/To0YPKysrYPqumpibW++cy1b0y6TCyrljrDaq76l4ctqup4UsnnLB5//mTTmJtEdU/JRe/9zgfIzIYONHMjgM6ATsDvwfKzGy70MrWG6gK51cBuwPvmtl2QFfgw7TylPRrmitvwN1vBm4GGDhwoFdUVLS5cs2prKwkzvvnMtW9Iukwsq5Y6w2qu+peBGbMgLTk7Ynp0/lKkT7fLRe/99jaP919rLv3dvc+RJMQZrr7acDjwMnhtFHAg2F7atgnHJ/p7h7KTwmzVPcC+gLPAc8DfcOs1u3DZ0yNqz4iIiJF5aabovdzzgF3fPvtk41HGkiiA/ti4CIzW0w0xu3WUH4rsEsovwi4BMDdXwbuAV4B/gmc7+51oQXvAmA60SzXe8K5IiIisi3WrYPrr4+2J0+GRYvg5puTjUmalJWVGNy9EqgM228SzSBtfM4nwDeauf5K4MomyqcB09oxVBERkeI0fz707x9t9+8frWu6zz5JRiQt0BQSERGRYnfVVfXJ25FH1i9KLzlLa6GKiIgUK3fYfXeoCnMA//Y3OO20ZGOSjCiBExERKVZm9cnbO+9EyZzkBSVwIiIixeaOO+D992HMGFi/HkpK9GDePKMETkREpJh85Svw739H2xddBB07JhuPbBMlcCIiIsVg1Sro3r1+f8GCqOVN8pISOBERkUK3aBHsu2/9/rp1oAfz5jV1eIuIiBS6Pn2i9/POi2aeKnnLe2qBExERKUSffAKlpVBZGY17c086ImlHaoETEREpNHPmRMkb6LluBUoJnIiISCH55S/hkEOi7WHD4N13k42nwEyZW8XgcTPZ65KHGTxuJlPmViUSh7pQRURECsX3vle/+PykSfCtbyUbT4GZMreKsfcvoHZDHQBV1bWMvX8BACMGlGc1FrXAiYiIFIrLLoveq6qUvMVg/PSFm5O3lNoNdYyfvjDrsSiBExERyWd/+Uu0JNaKFdCrVzRZoVevpKMqSO9V17aqPE5K4ERERPKROxx+OJx1VrT/9NPJxlMEepWVtqo8TkrgRERE8s2HH0Zrlz77bLT/yiswYkSiIRWDMUP7Udqx4eoVpR1LGDO0X9Zj0SQGERGRfLPrrvXb69drPdMsSU1UGD99Ie9V19KrrJQxQ/tlfQIDKIETERHJH+vXR6soTJ8OjzwC11+fdERFZ8SA8kQStsaUwImIiOS62lrYccdoe+NGOPbY6CVFS2PgREREctkLL9QnbwAbNiQXi+QMJXAiIiK56he/gC98Ido+8cRo5mmnTsnGJDlBCZyIiEgu+vBD+NWvou1774UHH0w2HskpSuBERERyydKl0WSFXXaBiRNh2TL4+teTjkpyjBI4ERGRXHHLLbDHHtClS7T/ne/Apz+dbEySkzQLVUREJGnuMHAgzJkT7f/2t8nGIzlPCZyIiEiSPvgAPvWp+v3XXoN+2X+yv+QXJXAiIiJJuuee6L1DB/jkE62qIBnRGDgREZEk3H139H7++fDMM1BXp+RNMqYWOBERkWz6+GPYaadoe/58GDcOBg1KNibJO2qBExERyZZZs+qTN4Cf/zy5WCSvKYETERHJhp/9rL6lbeTIaOZpejIn0grqQhUREcmGmTOj9wcegBEjEg1F8p9a4EREROKyaBFcemm0/cwz8NFHSt6kXSiBExERicMNN8C++8JVV0FVFZjBzjsnHZUUCHWhioiItCd3OOggWLAg2r/hBigvTzYmKThK4ERERNrL+vWwww71+6+/Dn37JhePFCwlcCIiIu0l9SDeTp1gzRrYTn9mJR4aAyciItJWJ58Mf/pTNM5t0yaorVXyJrFSAiciIrKtamqipO2+++D734/KzJKNSYqCEjgREZFt8fTT0KVL/f7atcnFIkUntgTOzDqZ2XNmNt/MXjazX4by28xsiZnNC6/+odzMbIKZLTazF83s4LR7jTKzReE1Kq38EDNbEK6ZYKZ/9oiISBZMnQqDB0fbp5wSzTzdccdkY5KiEmcH/TrgSHevMbOOwFNm9kg4Nsbd7210/nCgb3gdBtwIHGZm3YHLgIGAA7PNbKq7rwrnnAPMAqYBw4BHEBERidMxx0Tv//gHHH98srFIUYqtBc4jNWG3Y3h5C5ecBNwRrnsWKDOznsBQ4DF3XxmStseAYeHYzu7+rLs7cAcwIq76iIhIkVu4kIohQ2DePCgtjVrdlLxJQizKfWK6uVkJMBvYB/iju19sZrcBhxO10M0ALnH3dWb2EDDO3Z8K184ALgYqgE7u/utQ/nOgFqgM5x8dyr8MXOzuW/zXZGajgdEAPXr0OGTSpEmx1bmmpobOnTvHdv9cproXX92Ltd6guhdb3cvvu4++//d/AFSdeCKLfvSjhCPKvmL83lOSrPuQIUNmu/vAxuWxznF29zqgv5mVAQ+Y2QHAWGA5sD1wM1GSdkXMcdwcPouBAwd6RUVFbJ9VWVlJnPfPZap7RdJhZF2x1htU96Kpuzvstx+89hoAC3/8Y/r99rcU47oKRfW9N5KLdc/KLFR3rwYeB4a5+7LQTboO+AtwaDitCtg97bLeoayl8t5NlIuIiLSPPffcnLzxxhssU5ep5Ig4Z6HuFlreMLNS4BjgtTB2jTBjdATwUrhkKnBmmI06CPjI3ZcB04FjzaybmXUDjgWmh2OrzWxQuNeZwINx1UdERIrIpk3R+4wZ0VJYGzfC3nsnG5NImji7UHsCt4dxcB2Ae9z9ITObaWa7AQbMA84N508DjgMWAx8D3wFw95Vm9ivg+XDeFe6+MmyfB9wGlBLNPtUMVBERaZsTT4xml370UZS8vf560hGJbCG2BM7dXwQGNFF+ZDPnO3B+M8cmAhObKH8BOKBtkYqIiBCtXbrzzvX7y5c33BfJIVqJQURE5MknGyZrH38M++6bXDwiW6EETkREips7HHFEtH3GGdF+aWmyMYlsRayPEREREclZGzZELW1du0aL0ZeWwvDhSUclkhElcCIiUnxefTV6vhtEM05Hjkw2HpFWUheqiIgUl+uuq0/eDj8czJKNR2QbqAVORESKgzvssw+8+Wa0P3EifOc7ycYkso2UwImISHGYPbs+eVuyBPr0STQckbZQF6qIiBS2J5+EujoYOBCmTo22lbxJnlMCJyIihWv48OgRIQPCc+VPOAE66E+f5D91oYqISOH56CMoK6vfv/32xEIRiYP+GSIiIoWlsrJh8lZbW98CJ1IglMCJiEhhefjh6P2ss6KZp506JRuPSAyUwImISP5bvx4uvzzaHj8eli6FW29NNCSROGkMnIiI5LeXXoIDD4y2998fvvEN6N072ZhEYqYWOBERyV/XXFOfvB1xRJS8iRQBtcCJiEh+6tsXFi+Otm+/Hc48M9l4RLJICZyIiOSnTz6J3t9+G/bYI9lYRLJMXagiIpI/7roLxoyJtt96K1pVQcmbFCG1wImISH446iiYOTPavvJK2H77ZOMRSZASOBERyW3V1dCtW/3+vHlK3qToKYETEZHcVVXV8JEgn3wCO+yQXDwiOUJj4EREJHf17Bm9jx4draqg5E0EUAuciIjkmnXrouWv7rkneq6be9IRieQctcCJiEjumD+/fu3SUaOSjUUkhymBExGR3HDVVdC/f7R91FHw8ceJhiOSy5TAiYhI8n72M7j00mj7zjvhX/9KNh6RHKcETkREkpMa33bxxdH70qXwP/+TXDwieUIJnIiIJOP226FDB3jjDejaNUrm0h8ZIiLN0ixUERHJvi9/GZ56Ktp+5hn4zGeSjUckzyiBExGR7Fm1Crp3r99fsAAOOCC5eETylBI4ERHJnvTkbd06LYklso00Bk5EROJXWxu9z54NP/xhNN5NyZvINlMLnIiIxOeTT6C0NNqurYWDD45eItImaoETEZF4zJlTn7wBbNyYXCwiBUYJnIiItL9f/hIOOSTaHjYs6jLt3DnZmEQKiBI4ERFpX2vXwuWXR9uTJ8MjjyQajkgh0hg4ERFpH2+/Hc0y7dIF7r8fDjsMevVKOiqRgqQWOBERabtbb4U+fWDnnaP9r31NyZtIjNQCJyIi284dBg2C556L9q+7Ltl4RIpEbC1wZtbJzJ4zs/lm9rKZ/TKU72Vms8xssZlNNrPtQ/kOYX9xON4n7V5jQ/lCMxuaVj4slC02s0viqouIiDThww+jtUxTydsrr8CPfpRsTCJFIs4u1HXAke5+ENAfGGZmg4DfANe7+z7AKuDscP7ZwKpQfn04DzPbDzgF2B8YBtxgZiVmVgL8ERgO7AecGs4VEZFsmDmzfnv9evjc55KLRaTIxJbAeaQm7HYMLweOBO4N5bcDI8L2SWGfcPwoM7NQPsnd17n7EmAxcGh4LXb3N919PTApnCsiIjHq+Y9/RF2n3/gGzJ8fbXfsmHRYIkUl1jFwoZVsNrAPUWvZG0C1u6ee5vguUB62y4GlAO6+0cw+AnYJ5c+m3Tb9mqWNyg+LoRoiIgLRSgo77kg/gBUr4K9/hc9/PumoRIpSrAmcu9cB/c2sDHgA+Gycn9ccMxsNjAbo0aMHlZWVsX1WTU1NrPfPZap7ZdJhZF2x1huKr+5dFi7kkHPP3bz/5KmnUldE9U8ptu89nepemXQYDWRlFqq7V5vZ48DhQJmZbRda4XoDVeG0KmB34F0z2w7oCnyYVp6Sfk1z5Y0//2bgZoCBAwd6RUVFe1SrSZWVlcR5/1ymulckHUbWFWu9ocjqfvnl0coKACecQOVFFxVP3Rspqu+9EdW9IukwGohzFupuoeUNMysFjgFeBR4HTg6njQIeDNtTwz7h+Ex391B+SpiluhfQF3gOeB7oG2a1bk800WFqXPURESlar78evd97L0zV/2ZFckGcs1B7Ao+b2YtEydZj7v4QcDFwkZktJhrjdms4/1Zgl1B+EXAJgLu/DNwDvAL8Ezjf3etCC94FwHSixPCecK6IiLTVG2/A6NHR9p13Qk0NfP3rycYkIpvF1oXq7i8CA5oof5NoBmnj8k+AbzRzryuBK5sonwZMa3OwIiJS76abIDXe7aKL4LOfhZ12SjYmEWlAKzGIiEjEHQYOhDlzov0JE6LkTURyjhI4ERGBujrYLu1PwmuvQb9+ycUjIi1SAiciIlBSEi2LBbBuXcNkTkRyTpyTGEREJNd961vw859H2xs3btkSJyI5Sf+ViogUo7VroXPn+v0rrgCz5OIRkVbZagucme1kZh3C9r5mdqKZadE7EZF8NWtWw+StpkbJm0ieyaQL9d9AJzMrBx4FzgBuizMoERGJyRNPwKBB0fbIkdHMUz0iRCTvZJLAmbt/DIwEbnD3bwD7xxuWiIjEYvDg6P2BB+C++5KNRUS2WUYJnJkdDpwGPBzKSuILSURE2tWiRVEX6YwZ0QQFdxgxIumoRKQNMkngfgiMBR5w95fNbG+i9UxFRCTX3XAD7LtvtH3rrS2fKyJ5Y6uzUN39CeAJM9sx7L8J/CDuwEREpA3c4fOfh5deivZvuAG+//1kYxKRdpPJLNTDzewV4LWwf5CZ3RB7ZCIisu0GDqxP3l5/XcmbSIHJpAv1d8BQ4EMAd58PHBFjTCIisq3q6qL3hx+GAw6ADRugb99kYxKRdpfRSgzuvrRRUV0MsYiISFuMHBlNUli+HD79aViwQKsqiBSoTP7LXmpmXwQ8PMD3QuDVeMMSkUIzZW4V46cv5L3qWnqVlTJmaD9GDChPOqzCUFMDXbrU73/wQZTAiUjByqQF7lzgfKAcqAL6h30RkYxMmVvF2PsXUFVdiwNV1bWMvX8BU+ZWJR1a/nv66YbJ29q1cOCBycUjIlmx1QTO3f/r7qe5ew93/5S7n+7uH2YjOBEpDOOnL6R2Q8ORF7Ub6hg/fWFCERWQ1IN5Tzklmnm6447JxiMiWZHJLNTbzawsbb+bmU2MNSoRKSjvVde2qly2YuNGWLEi2q6shKlT4e67Ew1JRLIrkzFwn3f36tSOu68yswHxhSQihaZXWSlVTSRrXUs7JhBNnlu4ED772Wh740b4yleSjUdEEpHJGLgOZtYttWNm3cks8RMRAWDM0H507GBblK9dv1Hj4FpjwoT65G3gQOiQ0YMERKQAZfJf/7XAM2b2KzP7NfA0cE28YYlIIRkxoJzOnbb8d9+GOtc4uEy4Q79+cOGF0f7NN8Pzz0frm4pIUcpkKa07zOwF4MhQNNLdX4k3LBEpNNUfb2iyXOPgMrB4cbSaAsAbb8Deeycbj4gkrtkWODPbObx3B5YDd4XX8lAmIpKxXmWlrSoX4F//gnXropUUZs6MxrwpeRMRWu5CvSu8zwZeSHul9kVEMjZmaD9KO5Y0KCvtWMKYof0SiijHnXACHHMMfOpT0f6QIVBS0vI1IlI0mu1CdffjzcyAr7j7O1mMSUQKUGrVBa3GsBVr1sDOO9fvz5yZXCwikrNaHAPn7m5mDwN6rLeItNmIAeVK2Fry5JNwxBH1+x9/DKXqYhaRLWUyC3WOmX0h9khERIrdnDnR+xlnRDNPlbyJSDMySeAOA541szfM7EUzW2BmL8YdmIhIUdiwAX74wyhhu/BCeP99uOOOpKMSkRyXyQN5h8YehYhIMXrlFdh//2i7b184//z6SQsiIi1o6TEinzKz3wF/BM4FVrn726lXtgIUESlI115bn7x98YtR8iYikqGWulDvANYCfwA6AxOyEpGISKE78ED4yU+i7YkT4T//STYeEck7LXWh9nT3S8P2dDObk42AREQK3i67RO9LlkCfPomGIiL5qcVJDGbWzcy6h5UXShrti4hIpiZPjmaXAjz+ONTVKXkTkW3WUgtcV6JVF9JXS061wjmg9VxERDIxbBhMnx5t33gjdO6shehFpE1aWomhTxbjEBEpPB99BGVl9ftz5kTJm4hIG2XyGBEREWmtlSvrx7oB1NZCp07JxSMiBSWTB/mKiEhrdesWvX/nO9FDepW8iUg7UgInItJe1q+PxrZNmBC9u0ePCRERaWctPci3e0uvbAYpIpLzFiyAHXaIti+8MNlYRKTgtdQCNxt4Ibx/ALwOLArbs7d2YzPb3cweN7NXzOxlM7swlF9uZlVmNi+8jku7ZqyZLTazhWY2NK18WChbbGaXpJXvZWazQvlkM9u+tT8AEZE2u+Ya+Pzno+2vfCVqeRMRiVGzCZy77+XuewP/Ak5w913dfRfgeODRDO69Efixu+8HDALON7P9wrHr3b1/eE0DCMdOAfYHhgE3mFmJmZUQLec1HNgPODXtPr8J99oHWAWc3arai4i01bXXwsUXR9t33AGVlYmGIyLFIZMxcINSSRaAuz8CfHFrF7n7MnefE7bXAK8C5S1cchIwyd3XufsSYDFwaHgtdvc33X09MAk4ycwMOBK4N1x/OzAig/qIiLRdqpXtgguiCQpvv13/oF4RkZhlksC9Z2b/a2Z9wutS4L3WfIiZ9QEGALNC0QVm9qKZTTSzMFWLcmBp2mXvhrLmyncBqt19Y6NyEZF43XknFUceCS+8EI17q62FPfZIOioRKSKZPAfuVOAy4AGiFRj+HcoyYmadgfuAH7r7ajO7EfhVuNevgGuBs1oZd6uY2WhgNECPHj2ojLGLo6amJtb75zLVvTLpMLKuGOt90EUX0W3uXAAWTprEspqahCPKvmL83lNU98qkw0hELtZ9qwmcu68ELjSzndx9bWtubmYdiZK3O939/nC/99OO3wI8FHargN3TLu8dymim/EOgzMy2C61w6ec3rsPNwM0AAwcO9IqKitZUo1UqKyuJ8/65THWvSDqMrCuqeldX1z/bDXj+z3/mC2efTb/kIkpMUX3vjajuFUmHkYhcrPtWu1DN7Itm9grRGDbM7CAzuyGD6wy4FXjV3a9LK++ZdtrXgJfC9lTgFDPbwcz2AvoCzwHPA33DjNPtiSY6THV3Bx4HTg7XjwIe3FpcIiLbJC1545NPWPuZzyQXi4gUvUzGwF0PDCVq8cLd5wNHZHDdYOAM4MhGjwy5xswWmNmLwBDgR+G+LwP3AK8A/wTOd/e60Lp2ATCdKIm8J5wLcDFwkZktJhoTd2smlRYRydiaNdH7G2/Aj34UTV5IPe9NRCQhGa2F6u5Lowa1zeoyuOYpwJo4NK2JstQ1VwJXNlE+ranr3P1NolmqIiLta926+uWvVq2CvfeG665r+RoRkSzJpAVuqZl9EXAz62hmPyF0p4qIFKT58xuuXdpBqw6KSG7J5P9K5wLnEz2iowroD5wXY0wiIsm56iro3z/aPvroqMt0550TDUlEpLFMulD7uftp6QVmNhj4TzwhiYgkZMMGuPTSaPuuu+DUjJ+YJCKSVZm0wP0hwzIRkfz0zjuwYgV07AgzZsDSpUreRCSnNdsCZ2aHEy2ZtZuZXZR2aGegJO7ARESy4vbb4dvfjrbd4cgjEw1HRCQTLXWhbg90Dud0SStfTf2z10RE8teXvwxPPRVtjx+fbCwiIq3QbALn7k8AT5jZbe7+dhZjEhGJ16pV0L17/f5LL8H++ycXj4hIK2UyBu7PZlaW2jGzbmY2Pb6QRERiNm9e/fa6dUreRCTvZJLA7eru1akdd18FfCq2iERE4nL99bBxIwwZAq+/Ho152377pKMSEWm1TB4jssnM9nD3dwDMbE/A4w1LRKQdffIJlJZG2//4B8ycCX37JhuTiEgbZJLAXQo8ZWZPEC2N9WVgdKxRiYi0lzlz4JBD6venTEksFBGR9rLVLlR3/ydwMDAZmAQc4u4aAyciue+qq+qTt+HDtaqCiBSMZhM4M/tseD8Y2AN4L7z2CGUiIrlt7droffJkmDYt2VhERNpRS12oPwbOAa5t4pgDetqliOSeJUvgJz+B++6DK6+EX/wCdtgh6ahERNpVS8+BOye8D8leOCIibXDrrfDd70bbs2bBYYcpeRORgtTSUlojW7rQ3e9v/3BERLaBOxx+eJS0QfS4kMMOSzYmEZEYtdSFekJ4/xTRmqgzw/4Q4GlACZyIJM8dOqQN533lFfjc55KLR0QkC1rqQv0OgJk9Cuzn7svCfk/gtqxEJyKyNWaw777Rg3nXr4eOHZOOSEQkdpmsxLB7KnkL3iealSoikpzTT4ezzoq2Fy6MWuKUvIlIkcjkQb4zwtqnd4f9bwH/ii8kEZEW1NbCjjvW7//5zw27UEVEikAmD/K9APgTcFB43ezu/y/uwEREtvDCCw2Tt9WrlbyJSFHKpAUOYA6wxt3/ZWY7mlkXd18TZ2AiIg3Mmwdf+EK0feKJ8OCDiYYjIpKkrf7T1czOAe4FbgpF5cCUGGMSEdnSQQdBSUn0gF4lbyJS5DLpezgfGAysBnD3RUSPFhERidcbb0SzTO+8M3rfuBFGtviIShGRopBJArfO3dendsxsO6KltERE4nPTTbDPPtH23Xe3fK6ISJHJZAzcE2b2M6DUzI4BzgP+EW9YIlK03OGQQ2Du3Gh/wgT4f5o3JSKSLpME7mLgu8AC4HvANODPcQYlIkXsq1+tT94WLowe0isiIg20mMCZWQnwsrt/FrglOyGJSFHasCF6EO/kyXDssfDkk7BdphPlRUSKS4tj4Ny9DlhoZlp5QUTi881vwvbbR8thdekCzzyj5E1EpAWZ/B+yG/CymT0HrE0VuvuJsUUlIsVh7Vro3Ll+f40eLykikolMErifxx6FiBSfWbNg0KD6/Zoa2Gmn5OIREckjzSZwZtYJOBfYh2gCw63uvjFbgYlIgUslbyefDH//e7KxiIjkmZbGwN0ODCRK3oYD12YlIhEpXOvXw/e+F61pOn9+tKKCkjcRkVZrqQt1P3c/EMDMbgWey05IIlKQpk2LHhECUFoKv/sdfP7ziYYkIpKvWkrgNqQ23H2jmWUhHBEpSIMHw9NP1+9ff31ysYiIFICWEriDzGx12DailRhWh213951jj05E8ps7dEgbqTFqFNx2W2LhiIgUimYTOHcvyWYgIlJg3n8fPv3p+v1HHoFhw5KLR0SkgGSymL2ISOucfXbD5K22VsmbiEg7UgInIu3LDCZOjLbHjo26UTt1SjYmEZECowRORNrH++9HyVvKNdfAVVclF4+ISAGLLYEzs93N7HEze8XMXjazC0N5dzN7zMwWhfduodzMbIKZLTazF83s4LR7jQrnLzKzUWnlh5jZgnDNBNNUWZFkXHhhwy7T6moYMyaxcERECl2cLXAbgR+7+37AIOB8M9sPuASY4e59gRlhH6KHBfcNr9HAjRAlfMBlwGHAocBlqaQvnHNO2nUaZCOSbT/+MUyYUL/vDl27JhePiEgRiC2Bc/dl7j4nbK8BXgXKgZOIVnkgvI8I2ycBd3jkWaDMzHoCQ4HH3H2lu68CHgOGhWM7u/uz7u7AHWn3EpG41dZSMWQIXHddtP+LX0TJm4iIxC6TxezbzMz6AAOAWUAPd18WDi0HeoTtcmBp2mXvhrKWyt9torypzx9N1KpHjx49qKys3PbKbEVNTU2s989lqntl0mFkTdcFCxjwgx9s3v/PlCls6NoViuhnUGzfeTrVvTLpMBKhulcmHUYDsSdwZtYZuA/4obuvTh+m5u5uZrH/k93dbwZuBhg4cKBXVFTE9lmVlZXEef9cprpXJB1Gduy9NyxZUr+/aRODi3D4aVF9542o7hVJh5EI1b0i6TAaiHUWqpl1JEre7nT3+0Px+6H7k/C+IpRXAbunXd47lLVU3ruJchGJg3s0yzSVvJ17LpWPP95w5qmIiGRFnLNQDbgVeNXdr0s7NBVIzSQdBTyYVn5mmI06CPgodLVOB441s25h8sKxwPRwbLWZDQqfdWbavUSkPS1b1nBJrMcegxtvTC4eEZEiF2cX6mDgDGCBmc0LZT8DxgH3mNnZwNvAN8OxacBxwGLgY+A7AO6+0sx+BTwfzrvC3VeG7fOA24BS4JHwEpH2NGwYTJ9ev79+PXTsmFw8IiISXwLn7k8RLXzflKOaON+B85u510RgYhPlLwAHtCFMEWlJevfo978PN9yQXCwiIrKZVmIQkS1VVTVM3m66ScmbiEgOycpjREQkj9xyC4weXb+/ejV06ZJcPCIisgUlcCJS7wc/gD/8oX5fD+YVEclJSuBEBNauhc6d6/enToUTTkguHhERaZESOJFi98QTkP6Ayg8/hO7dEwtHRES2TgmcSDErK4OPPqrfV5epiEhe0CxUkWKUWlUhlbwNHarkTUQkjyiBEyk2777bcFWFKVPgn/9MLBwREWk9daGKFJMRI+DBsOLcrrvC++83TOZERCQvKIETKRbpD+bt1Ak++CC5WEREpE30T2+RQrdoUcPk7S9/gdra5OIREZE2UwucSI6YMreK8dMX8l51Lb3KShkztB8jBpS37aYzZsDRR9fvV1dD165tu6eIiCROCZxIDvjfKQu489l3SM0DraquZez9CwC2PYk75RSYPLl+X7NMRUQKhrpQRRI2ZW5Vg+QtpXZDHeOnL2z9DWtqoi7TVPL26KNK3kRECowSOJGEjZ++cIvkLeW96laOVZs0qeHC82++Ccccs82xiYhIblIXqkjCWkrSepWVZn6j9IkKoFY3EZECphY4KXpT5lYxeNxM9rrkYQaPm8mUuVVZ/fzmkjQDxgztt/UbbNrUMHk75hglbyIiBU4JnBS1KXOrGHv/Aqqqa3HqJw9kM4kbM7QfpR1LGpQZcNqgPbY+geHpp6Ek7dqHH47GvImISEFTF6oUtfHTF1K7oa5BWWryQJsf4ZGh1Oe0+hEiJ50EU6dG2z17brlEloiIFCwlcFLUmht/1urJA200YkB56xLG9C5TM3jvvfYPSkREcpb+uS5FrbnxZ62aPJBNL7/cMHl77LFoDJyIiBQVJXBS1Joaf1basSSzyQMZardJEn/6ExxwQP3+6tUNV1kQEZGioS5UKWrbPP4sQ6lJEqlxdtu8woIeESIiImmUwEnRa/X4s1Zo8ySJ1asbrl16661w1lntHKWIiOQbdaGKxKhNkyR+85uGydurryp5ExERQC1wIrHqVVZKVRPJ2lYnSajLVEREWqAWOJEYtXqSRF1dw+StSxclbyIisgW1wElBmjK3KraJCa3RqkkSd9wBo0bV7z/yCAwbtnk3V+okIiLJUwInBafdZn62k4wmSTTuMq2ra7CqQq7VSUREkqUuVCk4Lc38zElNjXdrtCRW3tVJRERipQROCk6uLI+1VQ8+2DB5++Y3mx3vljd1EhGRrFACJwUnL5bHuugiGDGifn/ZMpg8udnT86JOIiKSNUrgpOBkY3msNjGD66+v33eHT3+6xUtyvk4iIpJVSuCk4IwYUM7VIw+kvKwUA8rLSrl65IHJD/Z/662GXaaXXZbxI0Jytk4iIpIIzUKVghTn8ljbpGvXaFmslFmz4NBDW3WLnKuTiIgkRgmcSNy0qoKIiLQzdaGKxGXdOiVvIiISCyVwInH4xjegU6f6/RtvVPImIiLtRl2oIu1tK6sqiIiItFVsf1XMbKKZrTCzl9LKLjezKjObF17HpR0ba2aLzWyhmQ1NKx8Wyhab2SVp5XuZ2axQPtnMto+rLiIZcc9oVQUREZG2ivMvy23AsCbKr3f3/uE1DcDM9gNOAfYP19xgZiVmVgL8ERgO7AecGs4F+E241z7AKuDsGOsi0qJdnn66YaI2aJC6TEVEJDaxdaG6+7/NrE+Gp58ETHL3dcASM1sMpJ6xsNjd3wQws0nASWb2KnAk8D/hnNuBy4Eb2yl8kczttRcHvvVW/f4778DuuycWjoiIFL4k+nYuMLMXQxdrt1BWDixNO+fdUNZc+S5AtbtvbFQukl1m0QN6U9yVvImISOyyPYnhRuBXgIf3a4Gz4v5QMxsNjAbo0aMHlZWVsX1WTU1NrPfPZcVU950WL+YL55yzeX/1Hnsw5/bboUjqn1JM33ljqntl0mEkQnWvTDqMRORi3bOawLn7+6ltM7sFeCjsVgHpzRa9QxnNlH8IlJnZdqEVLv38pj73ZuBmgIEDB3pFRUXbKtKCyspK4rx/LiuaujeeqPDEE8zZtKk46t5I0XznTVDdK5IOIxGqe0XSYSQiF+ue1S5UM+uZtvs1IDVDdSpwipntYGZ7AX2B54Dngb5hxun2RBMdprq7A48DJ4frRwEPZqMOUuSammV6xBHJxCIiIkUrthY4M7sbqAB2NbN3gcuACjPrT9SF+hbwPQB3f9nM7gFeATYC57t7XbjPBcB0oASY6O4vh4+4GJhkZr8G5gK3xlUXET7+GHbaqWGZZpmKiEhC4pyFemoTxc0mWe5+JXBlE+XTgGlNlL9J/UxVkfiMHAkPPFC/P20aDB+eXDwiIlL0tBKD5LQpc6sYP30h71XX0quslDFD+zFiQBYnHGtVBRERyUFK4CRnTZlbxdj7F1C7oQ6Aqupaxt6/ACD+JK6pFRTUZSoiIjlCTQmSs8ZPX7g5eUup3VDH+OkL4/3gp55qmLwdeaSSNxERySlqgZOc9V51bavK20XjLtPly6FHj/g+T0REZBuoBU5yVq+y0laVt1lTjwhR8iYiIjlICZzkrDFD+1HasaRBWWnHEsYM7de+H/TIIw2Ttx491GUqIiI5TV2okrNSExVinYXauNVt7lzo37/97i8iIhIDJXCS00YMKM8oYdumx4001WUqIiKSB5TASd5r9eNGqquhW7eG95jzLuPHzUzueXMiIiKtoDFwkvda9biRgw9umLzdcw9T5rzL2PsXUFVdi1OfAE6ZWxVv4CIiIttILXCS9zJ+3EjjLtNNm8CM8eNmNpsAqhVORERykVrgJO9t9XEjIVFrwH1zWSLPmxMREWkDJXCS91p83Midd0JJw2ONJytk/XlzIiIibaQETvLeiAHlXD3yQMrLSjGgvKyUq0ceyIiDe8Ppp9ef+N//NjnTNGvPmxMREWknGgMnBWGLx4204hEhWXnenIiISDtSAieFZeJEOPvshmUZPN8t0+fNiYiI5AIlcFI4Gre6PfEEHHFEMrGIiIjESAmcFAatqiAiIkVEkxgkvy1apORNRESKjhI4yV9msO++9fsTJyp5ExGRoqAuVMlPzayqICIiUgzUAif5ZePGFldVEBERKQZK4CR/XHEFdOzYsExdpiIiUoTUhSo5ZcrcqqYfqNu4ha26Grp2TSRGERGRpKkFTnLGlLlVjL1/AVXVtThQVV3L2PsXNN1lquRNRESKmBI4yRnjpy+kdkPd5v0fPXknr/56eMOT1GUqIiKiLlTJHe9V127efus3xzc8+OijcMwxWY5IREQkN6kFTnJGr7JSYMvkbfDVM5S8iYiIpFECJznjir62RfL2uf99hDFD+yUUkYiISG5SF6rkBjOOStv9xTHnMuPIb3B1ahaqiIiIbKYETpLXxCzTK4ArEglGREQk96kLVZLT3KoKIiIi0iIlcNKsKXOrGDxuJntd8jCDx81kytyq9rv5mWc2XFWhpETJm4iISIbUhSpNSj1UN/Vcts0P1YW2j0lr3OpWWwudOrXtniIiIkVELXDSpMYP1QWo3VDH+OkL23bjprpMlbyJiIi0ihI4aVL6Q3UzKd+q8eOzOt4t1u5fERGRhKkLVZrUq6yUqiaStdTDdlulceI2axYceug2RrZ1sXb/ioiI5AC1wEmTxgztR2nHkgZlRpQMtapFq6lWtxiTN4ix+1dERCRHKIGTJo0YUM7VIw+kPLS4GZDq8Ey1aLWYxL32WmKPCGn37l8REZEcowROmjViQDn/ueRIystKaZx6tdiiZQaf+1z9/o03bpG8xTlGrblu3m3q/hUREclBsSVwZjbRzFaY2UtpZd3N7DEzWxTeu4VyM7MJZrbYzF40s4PTrhkVzl9kZqPSyg8xswXhmglmjZt7pL20qkWrqVa3c89tUJQao1ZVXYuTYYteKzTV/VvasURrqoqISMGIswXuNmBYo7JLgBnu3heYEfYBhgN9w2s0cCNECR9wGXAYcChwWSrpC+eck3Zd48+SdpJRi9b69VQMGdLwhGa6TOMeo5be/WtAeVkpV488UBMYRESkYMQ2C9Xd/21mfRoVnwRUhO3bgUrg4lB+h7s78KyZlZlZz3DuY+6+EsDMHgOGmVklsLO7PxvK7wBGAI/EVZ9iNmZovwazOqFRi9bBB8PcufUXfOlL8OSTzd4vG2PURgwoV8ImIiIFyzzGgeUhgXvI3Q8I+9XuXha2DVjl7mVm9hAwzt2fCsdmECV2FUAnd/91KP85UEuU+I1z96ND+ZeBi939+GbiGE3UskePHj0OmTRpUiz1BaipqaFz586x3T8p1bUbeP+jT1hft4ntSzrQo2snyko7btHq9sSjj+LpS2Q1YeHyNayv27RF+fYlHej36S7tGne2FOr3vjXFWm9Q3VX34qO6J1P3IUOGzHb3gY3LE3sOnLu7mWVlWqK73wzcDDBw4ECvqKiI7bMqKyuJ8/45pdF4t8rHH8+o7tWNntMGUYve1SMPpCJPW82K6ntPU6z1BtVddS8+qntF0mE0kO1ZqO+HrlHC+4pQXgXsnnZe71DWUnnvJsqlkVhme15/fZseEaIxaiIiIm2T7QRuKpCaSToKeDCt/MwwG3UQ8JG7LwOmA8eaWbcweeFYYHo4ttrMBoWu2DPT7iVBLLM9zeCiizbvPnHbgwy+egZ7XfIwC5evyfjeqUeUXP+t/gD8aPI8LXklIiKSoTgfI3I38AzQz8zeNbOzgXHAMWa2CDg67ANMA94EFgO3AOcBhMkLvwKeD68rUhMawjl/Dte8gSYwbKHdZ3s2anWbMuddzl28/eYEcX3dplYliHE/TkRERKRQxTkL9dRmDh3VxLkOnN/MfSYCE5sofwE4oC0xFrp2m+35yiuw//4Ny9wZP25mswliJt2hLSWY6k4VERFpnlZiKGDtsiKBWcPk7ZprNo93a2uCqCWvREREto0SuALW5hUJmpqoMGbM5t22Joha8kpERGTbKIErYNs827O2NqNZpm1NELXklYiIyLZJ7Dlwkh2tXpFg113hww/r9y++GMaNa/LU1H3HT1/Ie9W1bF/SoVWPA2l8fa+yUsYM7afxbyIiIluhBE7qNW5127ABtmv5VyQ9QaysrGz1g3i15JWIiEjrKYGTSBsezCsiIiLZpTFwBSyjVRhuvVXJm4iISJ5RC1wBmjK3isunvkx17YbNZamH5EL92LMtErd58+Cgg7IUpYiIiGwrtcAVmNTqBunJW0qDVRiaanVT8iYiIpIXlMAVmKZWN0i3y6vz1WUqIiKS59SFWmBaWsXgrd8c37Dgllvgu9+NOSIRERFpb0rgCkyvslKqmkjitkje1OomIiKSt5TAFZgxQ/sx9v4Fm7tRy2pXM2/C/zQ4Z6+LH2JJE9dOmVu1xUN1QQ/aFRERyTVK4PJUU8lW+kNxx09fyKO/+Co7bfhk8zVXVpzFLYeNpLyJtUZTkx9SiV9VdS1j7p0PDhs2+eayLWayioiISNYpgctBzSVn6ccbJ1vpidWIAeWMOLh3g3t+ZsyD1HUoaXat0aYmP2yo27KbNTWTVQmciIhIcjQLNcekkrOq6lqc+uQs/SG8TSVbmx8R4r7FLNPBV89gU4eSFhezb2nyQ1vOFRERkfanFrgc01Jylkq8mkugjpr5dxh7VH3BrrvCBx/wnww+t7nJD82dKyIiIslRC1yOaS45Sy9vKoF66zfHc8Vjf9q8/+hDzzD4x5NbXkYrzZih/SjtWNKgrGOJ0bFDw9Y8I2oVzOSeIiIiEg8lcDmmudat9PLGyVbjR4RMmfMuFz5b3WI3bGMjBpRz9cgDKS8rxYDyslLGn3wQ479x0OZJDwakRsVlck8RERGJh7pQc0zjx4AAW0w8SHWlTv7bv7j7um83vIE748fN3Go3bFPSZ7E2Lh88buYWXaya0CAiIpIMJXA5Jv0xIC09e23Ewb0ZkbY/8vTxLOn7eS6bW5VRN2xrxXFPERER2TZK4NpZde0GBo+b2aYH3zbXErZZo1mmfS5+KNr4eANj7p1P2Y4dWfXxlovZt2XyQXOTHDShQUREJPs0Bq4dTZlbRdWq2laNPWuVlSubT96CDXWOO1tMSGju+W+ZamqSQ1vvKSIiIttGCVw7Gj99IZsarTG6+flsbfTK+T+FXXbZvD926AVbJG8pH9Vu2GJCQnPPf8tUU5Mc2npPERER2TbqQm1H71XXwu7NlGeoyVUYDu7Nfmnn7PXTqWDN5969ykq3GEuXSiLbmsQpYRMREUmeErh2FI0HW9NM+dZtsUTWqo+3WBKruVa3lI4lxpih/ba63JaIiIjkL3WhtqMxQ/vRodEYtdaME0tfheHrC2bw1jUnbD42ve+gJpO3stKOm7e77diR8ScfxIgB5S0vtyUiIiJ5TS1w7WjEgHKmLH+F8rKSbZqFmupqbfxg3oN+cDcflXbZ4vzyslL+c8mRLd4r03IRERHJH0rg2llZaUf+c0lFq65JjXtztkzemusyNWixZU+P/RARESlc6kJNWGqs2o6LXmsyeWtuPdLTBu3RYsueHvshIiJSuNQCl7Dx0xfy+8m/5NhFz24uG3zuRKq6fory0AWbOq813bKZruggIiIi+UcJXML+M/aoBvupLlODBuPbtiXx0mM/RERECpO6UJOydm2DVRXWlXRsMN5NY9VERESkOUrgkvD449C58+bdM8/4Df1+8sDmfY1VExERkZaoCzVGqdmlVdW1lJhR577FRAU2bWLkvPd4Q2PVREREJENK4GLSeCWETZvqeOuaEzcfX7XfQXR7eR6gsWoiIiLSOupCjUn6SgifXbGEJWnJ2/8e832OP+O6pEITERGRPKcWuJikVjyYfOfFHPbuy5vL+110H+s67oBpRQQRERHZRkrgYtKrrJQT/vnXBslbc7NMU2PlNAZOREREMpFIAmdmbwFrgDpgo7sPNLPuwGSgD/AW8E13X2VmBvweOA74GPi2u88J9xkF/G+47a/d/fZs1qNZy5c3eL7bpceex50Djtu8nz7LtPFYuarqWsbevwDYtme/iYiISOFLcgzcEHfv7+4Dw/4lwAx37wvMCPsAw4G+4TUauBEgJHyXAYcBhwKXmVm3LMbfpC6vvgo9e27eP/KXD3PngOMoCc98Ky8r5eqRBzZYKSGVvKXUbqhj/PSF2QtaRERE8koudaGeBFSE7duBSuDiUH6HuzvwrJmVmVnPcO5j7r4SwMweA4YBd2c37IZ6Pvxw/Y47M7dy/nvNjIVrrlxEREQkqRY4Bx41s9lmNjqU9XD3ZWF7OdAjbJcDS9OufTeUNVeeqDfOPx9WrgT3jM5vbsUFrcQgIiIizTHPMNFo1w81K3f3KjP7FPAY8P+Aqe5elnbOKnfvZmYPAePc/alQPoOoZa4C6OTuvw7lPwdq3f23TXzeaKLuV3r06HHIpEmTYqtbTU0NndNWWdia6toNVK2qZVPa99DBjPJupZSVdowjxNi0tu6FpFjrXqz1BtVddS8+qnsydR8yZMjstOFmmyXSheruVeF9hZk9QDSG7X0z6+nuy0IX6YpwehWwe9rlvUNZFfVdrqnyymY+72bgZoCBAwd6RUVFU6e12ZS5Vby/fA7jnlrbqtmkhTILtbKykrh+trmuWOterPUG1V11Lz6qe0XSYTSQ9QTOzHYCOrj7mrB9LHAFMBUYBYwL7w+GS6YCF5jZJKIJCx+FJG86cFXaxIVjgbFZrEoDqdmk5312E06HVs0m1UoMIiIi0hpJtMD1AB6Ing7CdsBd7v5PM3seuMfMzgbeBr4Zzp9G9AiRxUSPEfkOgLuvNLNfAc+H865ITWhIQkuzSZWciYiISHvKegLn7m8CBzVR/iFwVBPlDpzfzL0mAhPbO8ZtodmkIiIiki1aC7WdaDapiIiIZIsSuHYyZmg/SjuWNChLX3FBREREpL3k0oN881pqnNv7C+dgkNezSUVERCS3KYFrRyMGlFP50SKWjKtIOhQREREpYOpCFREREckzSuBERERE8owSOBEREZE8owROREREJM8ogRMRERHJM0rgRERERPKMEjgRERGRPKMETkRERCTPKIETERERyTNK4ERERETyjBI4ERERkTyjBE5EREQkzyiBExEREckzSuBERERE8owSOBEREZE8Y+6edAxZZWYfAG/H+BG7Av+N8f65THUvPsVab1DdVffio7onY093361xYdElcHEzsxfcfWDScSRBdS++uhdrvUF1V92Lj+qeW3VXF6qIiIhInlECJyIiIpJnlMC1v5uTDiBBqnvxKdZ6g+perFT34pRzddcYOBEREZE8oxY4ERERkTyjBC4DZvaWmS0ws3lm9kIo625mj5nZovDeLZSbmU0ws8Vm9qKZHZx2n1Hh/EVmNiqp+rTEzCaa2QozeymtrN3qamaHhJ/l4nCtZbeGzWum7pebWVX47ueZ2XFpx8aGeiw0s6Fp5cNC2WIzuyStfC8zmxXKJ5vZ9tmrXcvMbHcze9zMXjGzl83swlBe0N99C/Uulu+9k5k9Z2bzQ/1/GcqbjNnMdgj7i8PxPmn3atXPJUkt1Ps2M1uS9r33D+UF8fuezsxKzGyumT0U9gv6O0/XRN3z83t3d7228gLeAnZtVHYNcEnYvgT4Tdg+DngEMGAQMCuUdwfeDO/dwna3pOvWRF2PAA4GXoqjrsBz4VwL1w5Pus5bqfvlwE+aOHc/YD6wA7AX8AZQEl5vAHsD24dz9gvX3AOcErb/BHw/6Tqn1acncHDY7gK8HupY0N99C/Uulu/dgM5huyMwK3xHTcYMnAf8KWyfAkze1p9Ljtb7NuDkJs4viN/3RnW6CLgLeKil39NC+c63Uve8/N7VArftTgJuD9u3AyPSyu/wyLNAmZn1BIYCj7n7SndfBTwGDMtyzFvl7v8GVjYqbpe6hmM7u/uzHv2m35F2r8Q1U/fmnARMcvd17r4EWAwcGl6L3f1Nd18PTAJOCv8KOxK4N1yf/nNMnLsvc/c5YXsN8CpQToF/9y3UuzmF9r27u9eE3Y7h5TQfc/rvw73AUaGOrfq5xFurrWuh3s0piN/3FDPrDXwV+HPYb+n3tCC+85TGdd+KnP7elcBlxoFHzWy2mY0OZT3cfVnYXg70CNvlwNK0a98NZc2V54P2qmt52G5cnusuCM3nEy10IdL6uu8CVLv7xkblOSd0kQwgapUomu++Ub2hSL730J00D1hB9IfoDZqPeXM9w/GPiOqYd//fa1xvd09971eG7/16M9shlBXa7/vvgJ8Cm8J+S7+nBfOdB7+jYd1T8u57VwKXmS+5+8HAcOB8Mzsi/WDItItiOm8x1TW4EfgM0B9YBlybaDQxM7POwH3AD919dfqxQv7um6h30Xzv7l7n7v2B3kStJ59NNqLsaFxvMzsAGEtU/y8QdY9dnFyE8TCz44EV7j476ViyrYW65+X3rgQuA+5eFd5XAA8Q/U/u/dBcSnhfEU6vAnZPu7x3KGuuPB+0V12rwnbj8pzl7u+H/9FvAm4h+u6h9XX/kKj5fbtG5TnDzDoSJTF3uvv9objgv/um6l1M33uKu1cDjwOH03zMm+sZjnclqmPe/n8vrd7DQpe6u/s64C9s+/ees7/vwGDgRDN7i6h780jg9xTHd75F3c3sb3n7vXsODCjM5RewE9AlbftporFr42k4uPuasP1VGg56fM7rBz0uIRrw2C1sd0+6fs3UuQ8NB/K3W13ZcoDncUnXdyt175m2/SOiMR8A+9NwAO+bRIN3twvbe1E/gHf/cM3faThI+Lyk65tWNyMar/G7RuUF/d23UO9i+d53A8rCdinwJHB8czED59NwQPs92/pzydF690z7vfgdMK6Qft+b+DlUUD+Qv6C/863UPS+/98R/iLn+IppJMz+8XgYuDeW7ADOARcC/0r48A/5INI5kATAw7V5nEQ30XAx8J+m6NVPfu4m6jDYQ9d+f3Z51BQYCL4Vr/o/wMOlceDVT97+Gur0ITKXhH/ZLQz0WkjbTiGjm0uvh2KWNfpeeCz+TvwM7JF3ntNi+RNQ9+iIwL7yOK/TvvoV6F8v3/nlgbqjnS8AvWooZ6BT2F4fje2/rzyVH6z0zfO8vAX+jfqZqQfy+N/FzqKA+iSno73wrdc/L710rMYiIiIjkGY2BExEREckzSuBERERE8owSOBEREZE8owROREREJM8ogRMRERHJM0rgRKSgmNkIM3Mz2+qKAmb2QzPbsQ2f9W0z+79myj8ws3lm9oqZndPM9Sea2SXb+vkiUryUwIlIoTkVeCq8b80PgW1O4LZiskdLNVUAV5lZj/SDZradu09193Exfb6IFDAlcCJSMMKapl8iegjzKWnlJWb2WzN7KSxY/f/M7AdAL+BxM3s8nFeTds3JZnZb2D7BzGaZ2Vwz+1fjZKwlHi3B9wawp5ndZmZ/MrNZwDXpLXhm1sPMHjCz+eH1xVB+upk9F1rzbgp1KQn3esnMFpjZj9r4oxORPLPd1k8REckbJwH/dPfXzexDMzvEo4WrRxMtk9bf3TeaWXd3X2lmFwFD3P2/W7nvU8Agd3cz+y7wU+DHmQRkZnsTPeV+cSjqDXzR3evM7Ntpp04AnnD3r5lZCdDZzD4HfAsY7O4bzOwG4DSiVWHK3f2A8BllmcQiIoVDCZyIFJJTiRbmhmix6lOB2cDRROs5bgRw95WtvG9vYLKZ9SRa33FJBtd8y8y+BKwDvhcSRoC/u3tdE+cfCZwZ4qsDPjKzM4BDgOfDtaXACuAfwN5m9gfgYeDRVtZHRPKcEjgRKQhm1p0oCTrQzJxoYW03szGtuE362oKd0rb/AFzn7lPNrAK4PIN7TXb3C5ooX9uKeAy43d3HbnHA7CBgKHAu8E2itRlFpEhoDJyIFIqTgb+6+57u3sfddydqKfsy8BjwPTPbDjYnewBrgC5p93jfzD5nZh2Ar6WVdwWqwvaomOKfAXw/xFdiZl1D2clm9qlU3Ga2p5ntCnRw9/uA/wUOjikmEclRSuBEpFCcCjzQqOy+UP5n4B3gRTObD/xPOH4z8M/UJAbgEuAh4GlgWdp9Lgf+bmazga2Nl9tWFwJDzGwBUbfvfu7+ClGC9qiZvUiUiPYEyoFKM5sH/A3YooVORAqbufvWzxIRERGRnKEWOBEREZE8owROREREJM8ogRMRERHJM0rgRERERPKMEjgRERGRPKMETkRERCTPKIETERERyTNK4ERERETyzP8H0JdEuSBObfwAAAAASUVORK5CYII=\n",
      "text/plain": [
       "<Figure size 720x576 with 1 Axes>"
      ]
     },
     "metadata": {
      "needs_background": "light"
     },
     "output_type": "display_data"
    }
   ],
   "source": [
    "plt.figure(figsize=(10, 8))\n",
    "plt.scatter(y_test, y_pred)\n",
    "plt.title('Actual Prices vs. Predicted Prices')\n",
    "plt.xlabel('Actual Prices')\n",
    "plt.ylabel('Predicted Prices')\n",
    "# Plotting the regression line\n",
    "plt.plot(y_test, y_test, color = 'red', linestyle = '--')\n",
    "plt.grid(True)\n",
    "plt.show()"
   ]
  },
  {
   "cell_type": "markdown",
   "id": "23fe0c00-f9dc-4cc2-b5da-de4fed823e14",
   "metadata": {},
   "source": [
    "## Next Steps"
   ]
  },
  {
   "cell_type": "markdown",
   "id": "9056b08e-f3a2-4708-a497-1b52561d9361",
   "metadata": {},
   "source": [
    "To improve the predictive performance of our model we could do a few things.<br> First, addressing outliers in the target variable using a Robust Scaler can improve model robustness by normalizing the price data more effectively against outliers. Additionally, feature selection and dimensionality reduction techniques such as Principal Component Analysis (PCA) and Recursive Feature Elimination (RFE) can be implemented. These methods will help in identifying the most influential features and reducing overfitting, thereby potentially increasing the model's accuracy and interpretability."
   ]
  }
 ],
 "metadata": {
  "kernelspec": {
   "display_name": "Python 3 (ipykernel)",
   "language": "python",
   "name": "python3"
  },
  "language_info": {
   "codemirror_mode": {
    "name": "ipython",
    "version": 3
   },
   "file_extension": ".py",
   "mimetype": "text/x-python",
   "name": "python",
   "nbconvert_exporter": "python",
   "pygments_lexer": "ipython3",
   "version": "3.9.13"
  }
 },
 "nbformat": 4,
 "nbformat_minor": 5
}
